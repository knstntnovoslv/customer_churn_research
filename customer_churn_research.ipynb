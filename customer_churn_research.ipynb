{
 "cells": [
  {
   "cell_type": "markdown",
   "metadata": {
    "toc": true
   },
   "source": [
    "<h1>Содержание<span class=\"tocSkip\"></span></h1>\n",
    "<div class=\"toc\"><ul class=\"toc-item\"><li><span><a href=\"#Подготовка-данных\" data-toc-modified-id=\"Подготовка-данных-1\"><span class=\"toc-item-num\">1&nbsp;&nbsp;</span>Подготовка данных</a></span></li><li><span><a href=\"#Исследование-задачи\" data-toc-modified-id=\"Исследование-задачи-2\"><span class=\"toc-item-num\">2&nbsp;&nbsp;</span>Исследование задачи</a></span></li><li><span><a href=\"#Борьба-с-дисбалансом\" data-toc-modified-id=\"Борьба-с-дисбалансом-3\"><span class=\"toc-item-num\">3&nbsp;&nbsp;</span>Борьба с дисбалансом</a></span></li><li><span><a href=\"#Тестирование-модели\" data-toc-modified-id=\"Тестирование-модели-4\"><span class=\"toc-item-num\">4&nbsp;&nbsp;</span>Тестирование модели</a></span></li><li><span><a href=\"#Чек-лист-готовности-проекта\" data-toc-modified-id=\"Чек-лист-готовности-проекта-5\"><span class=\"toc-item-num\">5&nbsp;&nbsp;</span>Чек-лист готовности проекта</a></span></li></ul></div>"
   ]
  },
  {
   "cell_type": "markdown",
   "metadata": {},
   "source": [
    "# Отток клиентов"
   ]
  },
  {
   "cell_type": "markdown",
   "metadata": {},
   "source": [
    "Из «Бета-Банка» стали уходить клиенты. Каждый месяц. Немного, но заметно. Банковские маркетологи посчитали: сохранять текущих клиентов дешевле, чем привлекать новых.\n",
    "\n",
    "Нужно спрогнозировать, уйдёт клиент из банка в ближайшее время или нет. Вам предоставлены исторические данные о поведении клиентов и расторжении договоров с банком. \n",
    "\n",
    "Постройте модель с предельно большим значением *F1*-меры. Чтобы сдать проект успешно, нужно довести метрику до 0.59. Проверьте *F1*-меру на тестовой выборке самостоятельно.\n",
    "\n",
    "Дополнительно измеряйте *AUC-ROC*, сравнивайте её значение с *F1*-мерой.\n",
    "\n",
    "Источник данных: [https://www.kaggle.com/barelydedicated/bank-customer-churn-modeling](https://www.kaggle.com/barelydedicated/bank-customer-churn-modeling)"
   ]
  },
  {
   "cell_type": "markdown",
   "metadata": {},
   "source": [
    "## Подготовка данных"
   ]
  },
  {
   "cell_type": "code",
   "execution_count": 1,
   "metadata": {},
   "outputs": [],
   "source": [
    "import pandas as pd\n",
    "from sklearn.ensemble import RandomForestClassifier\n",
    "from sklearn.linear_model import LogisticRegression\n",
    "from sklearn.model_selection import train_test_split\n",
    "from sklearn.metrics import f1_score\n",
    "from sklearn.metrics import roc_auc_score\n",
    "from sklearn.metrics import roc_curve\n",
    "from sklearn.preprocessing import StandardScaler\n",
    "from sklearn.utils import shuffle\n",
    "import matplotlib.pyplot as plt"
   ]
  },
  {
   "cell_type": "code",
   "execution_count": 2,
   "metadata": {},
   "outputs": [
    {
     "data": {
      "text/html": [
       "<div>\n",
       "<style scoped>\n",
       "    .dataframe tbody tr th:only-of-type {\n",
       "        vertical-align: middle;\n",
       "    }\n",
       "\n",
       "    .dataframe tbody tr th {\n",
       "        vertical-align: top;\n",
       "    }\n",
       "\n",
       "    .dataframe thead th {\n",
       "        text-align: right;\n",
       "    }\n",
       "</style>\n",
       "<table border=\"1\" class=\"dataframe\">\n",
       "  <thead>\n",
       "    <tr style=\"text-align: right;\">\n",
       "      <th></th>\n",
       "      <th>RowNumber</th>\n",
       "      <th>CustomerId</th>\n",
       "      <th>Surname</th>\n",
       "      <th>CreditScore</th>\n",
       "      <th>Geography</th>\n",
       "      <th>Gender</th>\n",
       "      <th>Age</th>\n",
       "      <th>Tenure</th>\n",
       "      <th>Balance</th>\n",
       "      <th>NumOfProducts</th>\n",
       "      <th>HasCrCard</th>\n",
       "      <th>IsActiveMember</th>\n",
       "      <th>EstimatedSalary</th>\n",
       "      <th>Exited</th>\n",
       "    </tr>\n",
       "  </thead>\n",
       "  <tbody>\n",
       "    <tr>\n",
       "      <td>0</td>\n",
       "      <td>1</td>\n",
       "      <td>15634602</td>\n",
       "      <td>Hargrave</td>\n",
       "      <td>619</td>\n",
       "      <td>France</td>\n",
       "      <td>Female</td>\n",
       "      <td>42</td>\n",
       "      <td>2.0</td>\n",
       "      <td>0.00</td>\n",
       "      <td>1</td>\n",
       "      <td>1</td>\n",
       "      <td>1</td>\n",
       "      <td>101348.88</td>\n",
       "      <td>1</td>\n",
       "    </tr>\n",
       "    <tr>\n",
       "      <td>1</td>\n",
       "      <td>2</td>\n",
       "      <td>15647311</td>\n",
       "      <td>Hill</td>\n",
       "      <td>608</td>\n",
       "      <td>Spain</td>\n",
       "      <td>Female</td>\n",
       "      <td>41</td>\n",
       "      <td>1.0</td>\n",
       "      <td>83807.86</td>\n",
       "      <td>1</td>\n",
       "      <td>0</td>\n",
       "      <td>1</td>\n",
       "      <td>112542.58</td>\n",
       "      <td>0</td>\n",
       "    </tr>\n",
       "    <tr>\n",
       "      <td>2</td>\n",
       "      <td>3</td>\n",
       "      <td>15619304</td>\n",
       "      <td>Onio</td>\n",
       "      <td>502</td>\n",
       "      <td>France</td>\n",
       "      <td>Female</td>\n",
       "      <td>42</td>\n",
       "      <td>8.0</td>\n",
       "      <td>159660.80</td>\n",
       "      <td>3</td>\n",
       "      <td>1</td>\n",
       "      <td>0</td>\n",
       "      <td>113931.57</td>\n",
       "      <td>1</td>\n",
       "    </tr>\n",
       "    <tr>\n",
       "      <td>3</td>\n",
       "      <td>4</td>\n",
       "      <td>15701354</td>\n",
       "      <td>Boni</td>\n",
       "      <td>699</td>\n",
       "      <td>France</td>\n",
       "      <td>Female</td>\n",
       "      <td>39</td>\n",
       "      <td>1.0</td>\n",
       "      <td>0.00</td>\n",
       "      <td>2</td>\n",
       "      <td>0</td>\n",
       "      <td>0</td>\n",
       "      <td>93826.63</td>\n",
       "      <td>0</td>\n",
       "    </tr>\n",
       "    <tr>\n",
       "      <td>4</td>\n",
       "      <td>5</td>\n",
       "      <td>15737888</td>\n",
       "      <td>Mitchell</td>\n",
       "      <td>850</td>\n",
       "      <td>Spain</td>\n",
       "      <td>Female</td>\n",
       "      <td>43</td>\n",
       "      <td>2.0</td>\n",
       "      <td>125510.82</td>\n",
       "      <td>1</td>\n",
       "      <td>1</td>\n",
       "      <td>1</td>\n",
       "      <td>79084.10</td>\n",
       "      <td>0</td>\n",
       "    </tr>\n",
       "    <tr>\n",
       "      <td>...</td>\n",
       "      <td>...</td>\n",
       "      <td>...</td>\n",
       "      <td>...</td>\n",
       "      <td>...</td>\n",
       "      <td>...</td>\n",
       "      <td>...</td>\n",
       "      <td>...</td>\n",
       "      <td>...</td>\n",
       "      <td>...</td>\n",
       "      <td>...</td>\n",
       "      <td>...</td>\n",
       "      <td>...</td>\n",
       "      <td>...</td>\n",
       "      <td>...</td>\n",
       "    </tr>\n",
       "    <tr>\n",
       "      <td>9995</td>\n",
       "      <td>9996</td>\n",
       "      <td>15606229</td>\n",
       "      <td>Obijiaku</td>\n",
       "      <td>771</td>\n",
       "      <td>France</td>\n",
       "      <td>Male</td>\n",
       "      <td>39</td>\n",
       "      <td>5.0</td>\n",
       "      <td>0.00</td>\n",
       "      <td>2</td>\n",
       "      <td>1</td>\n",
       "      <td>0</td>\n",
       "      <td>96270.64</td>\n",
       "      <td>0</td>\n",
       "    </tr>\n",
       "    <tr>\n",
       "      <td>9996</td>\n",
       "      <td>9997</td>\n",
       "      <td>15569892</td>\n",
       "      <td>Johnstone</td>\n",
       "      <td>516</td>\n",
       "      <td>France</td>\n",
       "      <td>Male</td>\n",
       "      <td>35</td>\n",
       "      <td>10.0</td>\n",
       "      <td>57369.61</td>\n",
       "      <td>1</td>\n",
       "      <td>1</td>\n",
       "      <td>1</td>\n",
       "      <td>101699.77</td>\n",
       "      <td>0</td>\n",
       "    </tr>\n",
       "    <tr>\n",
       "      <td>9997</td>\n",
       "      <td>9998</td>\n",
       "      <td>15584532</td>\n",
       "      <td>Liu</td>\n",
       "      <td>709</td>\n",
       "      <td>France</td>\n",
       "      <td>Female</td>\n",
       "      <td>36</td>\n",
       "      <td>7.0</td>\n",
       "      <td>0.00</td>\n",
       "      <td>1</td>\n",
       "      <td>0</td>\n",
       "      <td>1</td>\n",
       "      <td>42085.58</td>\n",
       "      <td>1</td>\n",
       "    </tr>\n",
       "    <tr>\n",
       "      <td>9998</td>\n",
       "      <td>9999</td>\n",
       "      <td>15682355</td>\n",
       "      <td>Sabbatini</td>\n",
       "      <td>772</td>\n",
       "      <td>Germany</td>\n",
       "      <td>Male</td>\n",
       "      <td>42</td>\n",
       "      <td>3.0</td>\n",
       "      <td>75075.31</td>\n",
       "      <td>2</td>\n",
       "      <td>1</td>\n",
       "      <td>0</td>\n",
       "      <td>92888.52</td>\n",
       "      <td>1</td>\n",
       "    </tr>\n",
       "    <tr>\n",
       "      <td>9999</td>\n",
       "      <td>10000</td>\n",
       "      <td>15628319</td>\n",
       "      <td>Walker</td>\n",
       "      <td>792</td>\n",
       "      <td>France</td>\n",
       "      <td>Female</td>\n",
       "      <td>28</td>\n",
       "      <td>NaN</td>\n",
       "      <td>130142.79</td>\n",
       "      <td>1</td>\n",
       "      <td>1</td>\n",
       "      <td>0</td>\n",
       "      <td>38190.78</td>\n",
       "      <td>0</td>\n",
       "    </tr>\n",
       "  </tbody>\n",
       "</table>\n",
       "<p>10000 rows × 14 columns</p>\n",
       "</div>"
      ],
      "text/plain": [
       "      RowNumber  CustomerId    Surname  CreditScore Geography  Gender  Age  \\\n",
       "0             1    15634602   Hargrave          619    France  Female   42   \n",
       "1             2    15647311       Hill          608     Spain  Female   41   \n",
       "2             3    15619304       Onio          502    France  Female   42   \n",
       "3             4    15701354       Boni          699    France  Female   39   \n",
       "4             5    15737888   Mitchell          850     Spain  Female   43   \n",
       "...         ...         ...        ...          ...       ...     ...  ...   \n",
       "9995       9996    15606229   Obijiaku          771    France    Male   39   \n",
       "9996       9997    15569892  Johnstone          516    France    Male   35   \n",
       "9997       9998    15584532        Liu          709    France  Female   36   \n",
       "9998       9999    15682355  Sabbatini          772   Germany    Male   42   \n",
       "9999      10000    15628319     Walker          792    France  Female   28   \n",
       "\n",
       "      Tenure    Balance  NumOfProducts  HasCrCard  IsActiveMember  \\\n",
       "0        2.0       0.00              1          1               1   \n",
       "1        1.0   83807.86              1          0               1   \n",
       "2        8.0  159660.80              3          1               0   \n",
       "3        1.0       0.00              2          0               0   \n",
       "4        2.0  125510.82              1          1               1   \n",
       "...      ...        ...            ...        ...             ...   \n",
       "9995     5.0       0.00              2          1               0   \n",
       "9996    10.0   57369.61              1          1               1   \n",
       "9997     7.0       0.00              1          0               1   \n",
       "9998     3.0   75075.31              2          1               0   \n",
       "9999     NaN  130142.79              1          1               0   \n",
       "\n",
       "      EstimatedSalary  Exited  \n",
       "0           101348.88       1  \n",
       "1           112542.58       0  \n",
       "2           113931.57       1  \n",
       "3            93826.63       0  \n",
       "4            79084.10       0  \n",
       "...               ...     ...  \n",
       "9995         96270.64       0  \n",
       "9996        101699.77       0  \n",
       "9997         42085.58       1  \n",
       "9998         92888.52       1  \n",
       "9999         38190.78       0  \n",
       "\n",
       "[10000 rows x 14 columns]"
      ]
     },
     "execution_count": 2,
     "metadata": {},
     "output_type": "execute_result"
    }
   ],
   "source": [
    "data = pd.read_csv('/datasets/Churn.csv')\n",
    "data"
   ]
  },
  {
   "cell_type": "markdown",
   "metadata": {},
   "source": [
    "Проверка типов"
   ]
  },
  {
   "cell_type": "code",
   "execution_count": 3,
   "metadata": {},
   "outputs": [
    {
     "name": "stdout",
     "output_type": "stream",
     "text": [
      "<class 'pandas.core.frame.DataFrame'>\n",
      "RangeIndex: 10000 entries, 0 to 9999\n",
      "Data columns (total 14 columns):\n",
      "RowNumber          10000 non-null int64\n",
      "CustomerId         10000 non-null int64\n",
      "Surname            10000 non-null object\n",
      "CreditScore        10000 non-null int64\n",
      "Geography          10000 non-null object\n",
      "Gender             10000 non-null object\n",
      "Age                10000 non-null int64\n",
      "Tenure             9091 non-null float64\n",
      "Balance            10000 non-null float64\n",
      "NumOfProducts      10000 non-null int64\n",
      "HasCrCard          10000 non-null int64\n",
      "IsActiveMember     10000 non-null int64\n",
      "EstimatedSalary    10000 non-null float64\n",
      "Exited             10000 non-null int64\n",
      "dtypes: float64(3), int64(8), object(3)\n",
      "memory usage: 1.1+ MB\n"
     ]
    }
   ],
   "source": [
    "data.info()"
   ]
  },
  {
   "cell_type": "code",
   "execution_count": 4,
   "metadata": {},
   "outputs": [
    {
     "data": {
      "text/plain": [
       "0"
      ]
     },
     "execution_count": 4,
     "metadata": {},
     "output_type": "execute_result"
    }
   ],
   "source": [
    "data.duplicated().sum()"
   ]
  },
  {
   "cell_type": "code",
   "execution_count": 5,
   "metadata": {},
   "outputs": [
    {
     "data": {
      "text/plain": [
       "Index(['RowNumber', 'CustomerId', 'Surname', 'CreditScore', 'Geography',\n",
       "       'Gender', 'Age', 'Tenure', 'Balance', 'NumOfProducts', 'HasCrCard',\n",
       "       'IsActiveMember', 'EstimatedSalary', 'Exited'],\n",
       "      dtype='object')"
      ]
     },
     "execution_count": 5,
     "metadata": {},
     "output_type": "execute_result"
    }
   ],
   "source": [
    "data.columns"
   ]
  },
  {
   "cell_type": "code",
   "execution_count": 6,
   "metadata": {},
   "outputs": [
    {
     "data": {
      "text/plain": [
       "RowNumber            0\n",
       "CustomerId           0\n",
       "Surname              0\n",
       "CreditScore          0\n",
       "Geography            0\n",
       "Gender               0\n",
       "Age                  0\n",
       "Tenure             909\n",
       "Balance              0\n",
       "NumOfProducts        0\n",
       "HasCrCard            0\n",
       "IsActiveMember       0\n",
       "EstimatedSalary      0\n",
       "Exited               0\n",
       "dtype: int64"
      ]
     },
     "execution_count": 6,
     "metadata": {},
     "output_type": "execute_result"
    }
   ],
   "source": [
    "data.isna().sum()"
   ]
  },
  {
   "cell_type": "markdown",
   "metadata": {},
   "source": [
    "Кодировка"
   ]
  },
  {
   "cell_type": "markdown",
   "metadata": {},
   "source": [
    "Для исследования можно удалить из таблицы данные о индексе строки, уникальном идентификаторе и фамилии, так как они не могут влиять на результат"
   ]
  },
  {
   "cell_type": "code",
   "execution_count": 7,
   "metadata": {},
   "outputs": [
    {
     "data": {
      "text/html": [
       "<div>\n",
       "<style scoped>\n",
       "    .dataframe tbody tr th:only-of-type {\n",
       "        vertical-align: middle;\n",
       "    }\n",
       "\n",
       "    .dataframe tbody tr th {\n",
       "        vertical-align: top;\n",
       "    }\n",
       "\n",
       "    .dataframe thead th {\n",
       "        text-align: right;\n",
       "    }\n",
       "</style>\n",
       "<table border=\"1\" class=\"dataframe\">\n",
       "  <thead>\n",
       "    <tr style=\"text-align: right;\">\n",
       "      <th></th>\n",
       "      <th>CreditScore</th>\n",
       "      <th>Geography</th>\n",
       "      <th>Gender</th>\n",
       "      <th>Age</th>\n",
       "      <th>Tenure</th>\n",
       "      <th>Balance</th>\n",
       "      <th>NumOfProducts</th>\n",
       "      <th>HasCrCard</th>\n",
       "      <th>IsActiveMember</th>\n",
       "      <th>EstimatedSalary</th>\n",
       "      <th>Exited</th>\n",
       "    </tr>\n",
       "  </thead>\n",
       "  <tbody>\n",
       "    <tr>\n",
       "      <td>0</td>\n",
       "      <td>619</td>\n",
       "      <td>France</td>\n",
       "      <td>Female</td>\n",
       "      <td>42</td>\n",
       "      <td>2.0</td>\n",
       "      <td>0.00</td>\n",
       "      <td>1</td>\n",
       "      <td>1</td>\n",
       "      <td>1</td>\n",
       "      <td>101348.88</td>\n",
       "      <td>1</td>\n",
       "    </tr>\n",
       "    <tr>\n",
       "      <td>1</td>\n",
       "      <td>608</td>\n",
       "      <td>Spain</td>\n",
       "      <td>Female</td>\n",
       "      <td>41</td>\n",
       "      <td>1.0</td>\n",
       "      <td>83807.86</td>\n",
       "      <td>1</td>\n",
       "      <td>0</td>\n",
       "      <td>1</td>\n",
       "      <td>112542.58</td>\n",
       "      <td>0</td>\n",
       "    </tr>\n",
       "    <tr>\n",
       "      <td>2</td>\n",
       "      <td>502</td>\n",
       "      <td>France</td>\n",
       "      <td>Female</td>\n",
       "      <td>42</td>\n",
       "      <td>8.0</td>\n",
       "      <td>159660.80</td>\n",
       "      <td>3</td>\n",
       "      <td>1</td>\n",
       "      <td>0</td>\n",
       "      <td>113931.57</td>\n",
       "      <td>1</td>\n",
       "    </tr>\n",
       "    <tr>\n",
       "      <td>3</td>\n",
       "      <td>699</td>\n",
       "      <td>France</td>\n",
       "      <td>Female</td>\n",
       "      <td>39</td>\n",
       "      <td>1.0</td>\n",
       "      <td>0.00</td>\n",
       "      <td>2</td>\n",
       "      <td>0</td>\n",
       "      <td>0</td>\n",
       "      <td>93826.63</td>\n",
       "      <td>0</td>\n",
       "    </tr>\n",
       "    <tr>\n",
       "      <td>4</td>\n",
       "      <td>850</td>\n",
       "      <td>Spain</td>\n",
       "      <td>Female</td>\n",
       "      <td>43</td>\n",
       "      <td>2.0</td>\n",
       "      <td>125510.82</td>\n",
       "      <td>1</td>\n",
       "      <td>1</td>\n",
       "      <td>1</td>\n",
       "      <td>79084.10</td>\n",
       "      <td>0</td>\n",
       "    </tr>\n",
       "    <tr>\n",
       "      <td>...</td>\n",
       "      <td>...</td>\n",
       "      <td>...</td>\n",
       "      <td>...</td>\n",
       "      <td>...</td>\n",
       "      <td>...</td>\n",
       "      <td>...</td>\n",
       "      <td>...</td>\n",
       "      <td>...</td>\n",
       "      <td>...</td>\n",
       "      <td>...</td>\n",
       "      <td>...</td>\n",
       "    </tr>\n",
       "    <tr>\n",
       "      <td>9995</td>\n",
       "      <td>771</td>\n",
       "      <td>France</td>\n",
       "      <td>Male</td>\n",
       "      <td>39</td>\n",
       "      <td>5.0</td>\n",
       "      <td>0.00</td>\n",
       "      <td>2</td>\n",
       "      <td>1</td>\n",
       "      <td>0</td>\n",
       "      <td>96270.64</td>\n",
       "      <td>0</td>\n",
       "    </tr>\n",
       "    <tr>\n",
       "      <td>9996</td>\n",
       "      <td>516</td>\n",
       "      <td>France</td>\n",
       "      <td>Male</td>\n",
       "      <td>35</td>\n",
       "      <td>10.0</td>\n",
       "      <td>57369.61</td>\n",
       "      <td>1</td>\n",
       "      <td>1</td>\n",
       "      <td>1</td>\n",
       "      <td>101699.77</td>\n",
       "      <td>0</td>\n",
       "    </tr>\n",
       "    <tr>\n",
       "      <td>9997</td>\n",
       "      <td>709</td>\n",
       "      <td>France</td>\n",
       "      <td>Female</td>\n",
       "      <td>36</td>\n",
       "      <td>7.0</td>\n",
       "      <td>0.00</td>\n",
       "      <td>1</td>\n",
       "      <td>0</td>\n",
       "      <td>1</td>\n",
       "      <td>42085.58</td>\n",
       "      <td>1</td>\n",
       "    </tr>\n",
       "    <tr>\n",
       "      <td>9998</td>\n",
       "      <td>772</td>\n",
       "      <td>Germany</td>\n",
       "      <td>Male</td>\n",
       "      <td>42</td>\n",
       "      <td>3.0</td>\n",
       "      <td>75075.31</td>\n",
       "      <td>2</td>\n",
       "      <td>1</td>\n",
       "      <td>0</td>\n",
       "      <td>92888.52</td>\n",
       "      <td>1</td>\n",
       "    </tr>\n",
       "    <tr>\n",
       "      <td>9999</td>\n",
       "      <td>792</td>\n",
       "      <td>France</td>\n",
       "      <td>Female</td>\n",
       "      <td>28</td>\n",
       "      <td>NaN</td>\n",
       "      <td>130142.79</td>\n",
       "      <td>1</td>\n",
       "      <td>1</td>\n",
       "      <td>0</td>\n",
       "      <td>38190.78</td>\n",
       "      <td>0</td>\n",
       "    </tr>\n",
       "  </tbody>\n",
       "</table>\n",
       "<p>10000 rows × 11 columns</p>\n",
       "</div>"
      ],
      "text/plain": [
       "      CreditScore Geography  Gender  Age  Tenure    Balance  NumOfProducts  \\\n",
       "0             619    France  Female   42     2.0       0.00              1   \n",
       "1             608     Spain  Female   41     1.0   83807.86              1   \n",
       "2             502    France  Female   42     8.0  159660.80              3   \n",
       "3             699    France  Female   39     1.0       0.00              2   \n",
       "4             850     Spain  Female   43     2.0  125510.82              1   \n",
       "...           ...       ...     ...  ...     ...        ...            ...   \n",
       "9995          771    France    Male   39     5.0       0.00              2   \n",
       "9996          516    France    Male   35    10.0   57369.61              1   \n",
       "9997          709    France  Female   36     7.0       0.00              1   \n",
       "9998          772   Germany    Male   42     3.0   75075.31              2   \n",
       "9999          792    France  Female   28     NaN  130142.79              1   \n",
       "\n",
       "      HasCrCard  IsActiveMember  EstimatedSalary  Exited  \n",
       "0             1               1        101348.88       1  \n",
       "1             0               1        112542.58       0  \n",
       "2             1               0        113931.57       1  \n",
       "3             0               0         93826.63       0  \n",
       "4             1               1         79084.10       0  \n",
       "...         ...             ...              ...     ...  \n",
       "9995          1               0         96270.64       0  \n",
       "9996          1               1        101699.77       0  \n",
       "9997          0               1         42085.58       1  \n",
       "9998          1               0         92888.52       1  \n",
       "9999          1               0         38190.78       0  \n",
       "\n",
       "[10000 rows x 11 columns]"
      ]
     },
     "execution_count": 7,
     "metadata": {},
     "output_type": "execute_result"
    }
   ],
   "source": [
    "data = data.drop(['RowNumber', 'CustomerId', 'Surname'], axis=1)\n",
    "data"
   ]
  },
  {
   "cell_type": "code",
   "execution_count": 8,
   "metadata": {},
   "outputs": [
    {
     "data": {
      "text/plain": [
       "['creditscore',\n",
       " 'geography',\n",
       " 'gender',\n",
       " 'age',\n",
       " 'tenure',\n",
       " 'balance',\n",
       " 'numofproducts',\n",
       " 'hascrcard',\n",
       " 'isactivemember',\n",
       " 'estimatedsalary',\n",
       " 'exited']"
      ]
     },
     "execution_count": 8,
     "metadata": {},
     "output_type": "execute_result"
    }
   ],
   "source": [
    "new_name = []\n",
    "for i in data.columns:\n",
    "    new_name.append(i.lower())\n",
    "new_name"
   ]
  },
  {
   "cell_type": "code",
   "execution_count": 9,
   "metadata": {},
   "outputs": [
    {
     "data": {
      "text/html": [
       "<div>\n",
       "<style scoped>\n",
       "    .dataframe tbody tr th:only-of-type {\n",
       "        vertical-align: middle;\n",
       "    }\n",
       "\n",
       "    .dataframe tbody tr th {\n",
       "        vertical-align: top;\n",
       "    }\n",
       "\n",
       "    .dataframe thead th {\n",
       "        text-align: right;\n",
       "    }\n",
       "</style>\n",
       "<table border=\"1\" class=\"dataframe\">\n",
       "  <thead>\n",
       "    <tr style=\"text-align: right;\">\n",
       "      <th></th>\n",
       "      <th>creditscore</th>\n",
       "      <th>geography</th>\n",
       "      <th>gender</th>\n",
       "      <th>age</th>\n",
       "      <th>tenure</th>\n",
       "      <th>balance</th>\n",
       "      <th>numofproducts</th>\n",
       "      <th>hascrcard</th>\n",
       "      <th>isactivemember</th>\n",
       "      <th>estimatedsalary</th>\n",
       "      <th>exited</th>\n",
       "    </tr>\n",
       "  </thead>\n",
       "  <tbody>\n",
       "    <tr>\n",
       "      <td>0</td>\n",
       "      <td>619</td>\n",
       "      <td>France</td>\n",
       "      <td>Female</td>\n",
       "      <td>42</td>\n",
       "      <td>2.0</td>\n",
       "      <td>0.00</td>\n",
       "      <td>1</td>\n",
       "      <td>1</td>\n",
       "      <td>1</td>\n",
       "      <td>101348.88</td>\n",
       "      <td>1</td>\n",
       "    </tr>\n",
       "    <tr>\n",
       "      <td>1</td>\n",
       "      <td>608</td>\n",
       "      <td>Spain</td>\n",
       "      <td>Female</td>\n",
       "      <td>41</td>\n",
       "      <td>1.0</td>\n",
       "      <td>83807.86</td>\n",
       "      <td>1</td>\n",
       "      <td>0</td>\n",
       "      <td>1</td>\n",
       "      <td>112542.58</td>\n",
       "      <td>0</td>\n",
       "    </tr>\n",
       "    <tr>\n",
       "      <td>2</td>\n",
       "      <td>502</td>\n",
       "      <td>France</td>\n",
       "      <td>Female</td>\n",
       "      <td>42</td>\n",
       "      <td>8.0</td>\n",
       "      <td>159660.80</td>\n",
       "      <td>3</td>\n",
       "      <td>1</td>\n",
       "      <td>0</td>\n",
       "      <td>113931.57</td>\n",
       "      <td>1</td>\n",
       "    </tr>\n",
       "    <tr>\n",
       "      <td>3</td>\n",
       "      <td>699</td>\n",
       "      <td>France</td>\n",
       "      <td>Female</td>\n",
       "      <td>39</td>\n",
       "      <td>1.0</td>\n",
       "      <td>0.00</td>\n",
       "      <td>2</td>\n",
       "      <td>0</td>\n",
       "      <td>0</td>\n",
       "      <td>93826.63</td>\n",
       "      <td>0</td>\n",
       "    </tr>\n",
       "    <tr>\n",
       "      <td>4</td>\n",
       "      <td>850</td>\n",
       "      <td>Spain</td>\n",
       "      <td>Female</td>\n",
       "      <td>43</td>\n",
       "      <td>2.0</td>\n",
       "      <td>125510.82</td>\n",
       "      <td>1</td>\n",
       "      <td>1</td>\n",
       "      <td>1</td>\n",
       "      <td>79084.10</td>\n",
       "      <td>0</td>\n",
       "    </tr>\n",
       "    <tr>\n",
       "      <td>...</td>\n",
       "      <td>...</td>\n",
       "      <td>...</td>\n",
       "      <td>...</td>\n",
       "      <td>...</td>\n",
       "      <td>...</td>\n",
       "      <td>...</td>\n",
       "      <td>...</td>\n",
       "      <td>...</td>\n",
       "      <td>...</td>\n",
       "      <td>...</td>\n",
       "      <td>...</td>\n",
       "    </tr>\n",
       "    <tr>\n",
       "      <td>9995</td>\n",
       "      <td>771</td>\n",
       "      <td>France</td>\n",
       "      <td>Male</td>\n",
       "      <td>39</td>\n",
       "      <td>5.0</td>\n",
       "      <td>0.00</td>\n",
       "      <td>2</td>\n",
       "      <td>1</td>\n",
       "      <td>0</td>\n",
       "      <td>96270.64</td>\n",
       "      <td>0</td>\n",
       "    </tr>\n",
       "    <tr>\n",
       "      <td>9996</td>\n",
       "      <td>516</td>\n",
       "      <td>France</td>\n",
       "      <td>Male</td>\n",
       "      <td>35</td>\n",
       "      <td>10.0</td>\n",
       "      <td>57369.61</td>\n",
       "      <td>1</td>\n",
       "      <td>1</td>\n",
       "      <td>1</td>\n",
       "      <td>101699.77</td>\n",
       "      <td>0</td>\n",
       "    </tr>\n",
       "    <tr>\n",
       "      <td>9997</td>\n",
       "      <td>709</td>\n",
       "      <td>France</td>\n",
       "      <td>Female</td>\n",
       "      <td>36</td>\n",
       "      <td>7.0</td>\n",
       "      <td>0.00</td>\n",
       "      <td>1</td>\n",
       "      <td>0</td>\n",
       "      <td>1</td>\n",
       "      <td>42085.58</td>\n",
       "      <td>1</td>\n",
       "    </tr>\n",
       "    <tr>\n",
       "      <td>9998</td>\n",
       "      <td>772</td>\n",
       "      <td>Germany</td>\n",
       "      <td>Male</td>\n",
       "      <td>42</td>\n",
       "      <td>3.0</td>\n",
       "      <td>75075.31</td>\n",
       "      <td>2</td>\n",
       "      <td>1</td>\n",
       "      <td>0</td>\n",
       "      <td>92888.52</td>\n",
       "      <td>1</td>\n",
       "    </tr>\n",
       "    <tr>\n",
       "      <td>9999</td>\n",
       "      <td>792</td>\n",
       "      <td>France</td>\n",
       "      <td>Female</td>\n",
       "      <td>28</td>\n",
       "      <td>NaN</td>\n",
       "      <td>130142.79</td>\n",
       "      <td>1</td>\n",
       "      <td>1</td>\n",
       "      <td>0</td>\n",
       "      <td>38190.78</td>\n",
       "      <td>0</td>\n",
       "    </tr>\n",
       "  </tbody>\n",
       "</table>\n",
       "<p>10000 rows × 11 columns</p>\n",
       "</div>"
      ],
      "text/plain": [
       "      creditscore geography  gender  age  tenure    balance  numofproducts  \\\n",
       "0             619    France  Female   42     2.0       0.00              1   \n",
       "1             608     Spain  Female   41     1.0   83807.86              1   \n",
       "2             502    France  Female   42     8.0  159660.80              3   \n",
       "3             699    France  Female   39     1.0       0.00              2   \n",
       "4             850     Spain  Female   43     2.0  125510.82              1   \n",
       "...           ...       ...     ...  ...     ...        ...            ...   \n",
       "9995          771    France    Male   39     5.0       0.00              2   \n",
       "9996          516    France    Male   35    10.0   57369.61              1   \n",
       "9997          709    France  Female   36     7.0       0.00              1   \n",
       "9998          772   Germany    Male   42     3.0   75075.31              2   \n",
       "9999          792    France  Female   28     NaN  130142.79              1   \n",
       "\n",
       "      hascrcard  isactivemember  estimatedsalary  exited  \n",
       "0             1               1        101348.88       1  \n",
       "1             0               1        112542.58       0  \n",
       "2             1               0        113931.57       1  \n",
       "3             0               0         93826.63       0  \n",
       "4             1               1         79084.10       0  \n",
       "...         ...             ...              ...     ...  \n",
       "9995          1               0         96270.64       0  \n",
       "9996          1               1        101699.77       0  \n",
       "9997          0               1         42085.58       1  \n",
       "9998          1               0         92888.52       1  \n",
       "9999          1               0         38190.78       0  \n",
       "\n",
       "[10000 rows x 11 columns]"
      ]
     },
     "execution_count": 9,
     "metadata": {},
     "output_type": "execute_result"
    }
   ],
   "source": [
    "data.set_axis(new_name, inplace=True, axis=1)\n",
    "data"
   ]
  },
  {
   "cell_type": "code",
   "execution_count": 10,
   "metadata": {
    "scrolled": true
   },
   "outputs": [
    {
     "data": {
      "text/html": [
       "<div>\n",
       "<style scoped>\n",
       "    .dataframe tbody tr th:only-of-type {\n",
       "        vertical-align: middle;\n",
       "    }\n",
       "\n",
       "    .dataframe tbody tr th {\n",
       "        vertical-align: top;\n",
       "    }\n",
       "\n",
       "    .dataframe thead th {\n",
       "        text-align: right;\n",
       "    }\n",
       "</style>\n",
       "<table border=\"1\" class=\"dataframe\">\n",
       "  <thead>\n",
       "    <tr style=\"text-align: right;\">\n",
       "      <th></th>\n",
       "      <th>creditscore</th>\n",
       "      <th>age</th>\n",
       "      <th>tenure</th>\n",
       "      <th>balance</th>\n",
       "      <th>numofproducts</th>\n",
       "      <th>hascrcard</th>\n",
       "      <th>isactivemember</th>\n",
       "      <th>estimatedsalary</th>\n",
       "      <th>exited</th>\n",
       "      <th>geography_Germany</th>\n",
       "      <th>geography_Spain</th>\n",
       "      <th>gender_Male</th>\n",
       "    </tr>\n",
       "  </thead>\n",
       "  <tbody>\n",
       "    <tr>\n",
       "      <td>0</td>\n",
       "      <td>619</td>\n",
       "      <td>42</td>\n",
       "      <td>2.0</td>\n",
       "      <td>0.00</td>\n",
       "      <td>1</td>\n",
       "      <td>1</td>\n",
       "      <td>1</td>\n",
       "      <td>101348.88</td>\n",
       "      <td>1</td>\n",
       "      <td>0</td>\n",
       "      <td>0</td>\n",
       "      <td>0</td>\n",
       "    </tr>\n",
       "    <tr>\n",
       "      <td>1</td>\n",
       "      <td>608</td>\n",
       "      <td>41</td>\n",
       "      <td>1.0</td>\n",
       "      <td>83807.86</td>\n",
       "      <td>1</td>\n",
       "      <td>0</td>\n",
       "      <td>1</td>\n",
       "      <td>112542.58</td>\n",
       "      <td>0</td>\n",
       "      <td>0</td>\n",
       "      <td>1</td>\n",
       "      <td>0</td>\n",
       "    </tr>\n",
       "    <tr>\n",
       "      <td>2</td>\n",
       "      <td>502</td>\n",
       "      <td>42</td>\n",
       "      <td>8.0</td>\n",
       "      <td>159660.80</td>\n",
       "      <td>3</td>\n",
       "      <td>1</td>\n",
       "      <td>0</td>\n",
       "      <td>113931.57</td>\n",
       "      <td>1</td>\n",
       "      <td>0</td>\n",
       "      <td>0</td>\n",
       "      <td>0</td>\n",
       "    </tr>\n",
       "    <tr>\n",
       "      <td>3</td>\n",
       "      <td>699</td>\n",
       "      <td>39</td>\n",
       "      <td>1.0</td>\n",
       "      <td>0.00</td>\n",
       "      <td>2</td>\n",
       "      <td>0</td>\n",
       "      <td>0</td>\n",
       "      <td>93826.63</td>\n",
       "      <td>0</td>\n",
       "      <td>0</td>\n",
       "      <td>0</td>\n",
       "      <td>0</td>\n",
       "    </tr>\n",
       "    <tr>\n",
       "      <td>4</td>\n",
       "      <td>850</td>\n",
       "      <td>43</td>\n",
       "      <td>2.0</td>\n",
       "      <td>125510.82</td>\n",
       "      <td>1</td>\n",
       "      <td>1</td>\n",
       "      <td>1</td>\n",
       "      <td>79084.10</td>\n",
       "      <td>0</td>\n",
       "      <td>0</td>\n",
       "      <td>1</td>\n",
       "      <td>0</td>\n",
       "    </tr>\n",
       "    <tr>\n",
       "      <td>...</td>\n",
       "      <td>...</td>\n",
       "      <td>...</td>\n",
       "      <td>...</td>\n",
       "      <td>...</td>\n",
       "      <td>...</td>\n",
       "      <td>...</td>\n",
       "      <td>...</td>\n",
       "      <td>...</td>\n",
       "      <td>...</td>\n",
       "      <td>...</td>\n",
       "      <td>...</td>\n",
       "      <td>...</td>\n",
       "    </tr>\n",
       "    <tr>\n",
       "      <td>9995</td>\n",
       "      <td>771</td>\n",
       "      <td>39</td>\n",
       "      <td>5.0</td>\n",
       "      <td>0.00</td>\n",
       "      <td>2</td>\n",
       "      <td>1</td>\n",
       "      <td>0</td>\n",
       "      <td>96270.64</td>\n",
       "      <td>0</td>\n",
       "      <td>0</td>\n",
       "      <td>0</td>\n",
       "      <td>1</td>\n",
       "    </tr>\n",
       "    <tr>\n",
       "      <td>9996</td>\n",
       "      <td>516</td>\n",
       "      <td>35</td>\n",
       "      <td>10.0</td>\n",
       "      <td>57369.61</td>\n",
       "      <td>1</td>\n",
       "      <td>1</td>\n",
       "      <td>1</td>\n",
       "      <td>101699.77</td>\n",
       "      <td>0</td>\n",
       "      <td>0</td>\n",
       "      <td>0</td>\n",
       "      <td>1</td>\n",
       "    </tr>\n",
       "    <tr>\n",
       "      <td>9997</td>\n",
       "      <td>709</td>\n",
       "      <td>36</td>\n",
       "      <td>7.0</td>\n",
       "      <td>0.00</td>\n",
       "      <td>1</td>\n",
       "      <td>0</td>\n",
       "      <td>1</td>\n",
       "      <td>42085.58</td>\n",
       "      <td>1</td>\n",
       "      <td>0</td>\n",
       "      <td>0</td>\n",
       "      <td>0</td>\n",
       "    </tr>\n",
       "    <tr>\n",
       "      <td>9998</td>\n",
       "      <td>772</td>\n",
       "      <td>42</td>\n",
       "      <td>3.0</td>\n",
       "      <td>75075.31</td>\n",
       "      <td>2</td>\n",
       "      <td>1</td>\n",
       "      <td>0</td>\n",
       "      <td>92888.52</td>\n",
       "      <td>1</td>\n",
       "      <td>1</td>\n",
       "      <td>0</td>\n",
       "      <td>1</td>\n",
       "    </tr>\n",
       "    <tr>\n",
       "      <td>9999</td>\n",
       "      <td>792</td>\n",
       "      <td>28</td>\n",
       "      <td>NaN</td>\n",
       "      <td>130142.79</td>\n",
       "      <td>1</td>\n",
       "      <td>1</td>\n",
       "      <td>0</td>\n",
       "      <td>38190.78</td>\n",
       "      <td>0</td>\n",
       "      <td>0</td>\n",
       "      <td>0</td>\n",
       "      <td>0</td>\n",
       "    </tr>\n",
       "  </tbody>\n",
       "</table>\n",
       "<p>10000 rows × 12 columns</p>\n",
       "</div>"
      ],
      "text/plain": [
       "      creditscore  age  tenure    balance  numofproducts  hascrcard  \\\n",
       "0             619   42     2.0       0.00              1          1   \n",
       "1             608   41     1.0   83807.86              1          0   \n",
       "2             502   42     8.0  159660.80              3          1   \n",
       "3             699   39     1.0       0.00              2          0   \n",
       "4             850   43     2.0  125510.82              1          1   \n",
       "...           ...  ...     ...        ...            ...        ...   \n",
       "9995          771   39     5.0       0.00              2          1   \n",
       "9996          516   35    10.0   57369.61              1          1   \n",
       "9997          709   36     7.0       0.00              1          0   \n",
       "9998          772   42     3.0   75075.31              2          1   \n",
       "9999          792   28     NaN  130142.79              1          1   \n",
       "\n",
       "      isactivemember  estimatedsalary  exited  geography_Germany  \\\n",
       "0                  1        101348.88       1                  0   \n",
       "1                  1        112542.58       0                  0   \n",
       "2                  0        113931.57       1                  0   \n",
       "3                  0         93826.63       0                  0   \n",
       "4                  1         79084.10       0                  0   \n",
       "...              ...              ...     ...                ...   \n",
       "9995               0         96270.64       0                  0   \n",
       "9996               1        101699.77       0                  0   \n",
       "9997               1         42085.58       1                  0   \n",
       "9998               0         92888.52       1                  1   \n",
       "9999               0         38190.78       0                  0   \n",
       "\n",
       "      geography_Spain  gender_Male  \n",
       "0                   0            0  \n",
       "1                   1            0  \n",
       "2                   0            0  \n",
       "3                   0            0  \n",
       "4                   1            0  \n",
       "...               ...          ...  \n",
       "9995                0            1  \n",
       "9996                0            1  \n",
       "9997                0            0  \n",
       "9998                0            1  \n",
       "9999                0            0  \n",
       "\n",
       "[10000 rows x 12 columns]"
      ]
     },
     "execution_count": 10,
     "metadata": {},
     "output_type": "execute_result"
    }
   ],
   "source": [
    "data = pd.get_dummies(data, drop_first=True)\n",
    "data"
   ]
  },
  {
   "cell_type": "code",
   "execution_count": 11,
   "metadata": {},
   "outputs": [],
   "source": [
    "data = data.dropna()"
   ]
  },
  {
   "cell_type": "code",
   "execution_count": 12,
   "metadata": {
    "scrolled": true
   },
   "outputs": [
    {
     "data": {
      "text/plain": [
       "0    7237\n",
       "1    1854\n",
       "Name: exited, dtype: int64"
      ]
     },
     "execution_count": 12,
     "metadata": {},
     "output_type": "execute_result"
    }
   ],
   "source": [
    "data['exited'].value_counts() #для проверки баланса"
   ]
  },
  {
   "cell_type": "markdown",
   "metadata": {},
   "source": [
    "## Исследование задачи"
   ]
  },
  {
   "cell_type": "code",
   "execution_count": 13,
   "metadata": {},
   "outputs": [],
   "source": [
    "features = data.drop('exited', axis=1)\n",
    "target = data['exited']\n",
    "features_train, features_valid, target_train, target_valid = train_test_split(features, \n",
    "                                                                    target, test_size=0.4, random_state=12345)    \n"
   ]
  },
  {
   "cell_type": "code",
   "execution_count": 14,
   "metadata": {},
   "outputs": [],
   "source": [
    "features_valid, features_test, target_valid, target_test = train_test_split(features_valid, target_valid, test_size=0.5,\n",
    "                                                                           random_state=12345)"
   ]
  },
  {
   "cell_type": "code",
   "execution_count": 15,
   "metadata": {},
   "outputs": [],
   "source": [
    "target_train = target_train.reset_index(drop=True)\n",
    "target_valid = target_valid.reset_index(drop=True)\n",
    "target_test = target_test.reset_index(drop=True)"
   ]
  },
  {
   "cell_type": "markdown",
   "metadata": {},
   "source": [
    "Поиск гиперпараметров для случайного леса в случае дисбаланса классов"
   ]
  },
  {
   "cell_type": "code",
   "execution_count": 16,
   "metadata": {},
   "outputs": [
    {
     "name": "stderr",
     "output_type": "stream",
     "text": [
      "/opt/conda/lib/python3.7/site-packages/sklearn/metrics/classification.py:1437: UndefinedMetricWarning: F-score is ill-defined and being set to 0.0 due to no predicted samples.\n",
      "  'precision', 'predicted', average, warn_for)\n",
      "/opt/conda/lib/python3.7/site-packages/sklearn/metrics/classification.py:1437: UndefinedMetricWarning: F-score is ill-defined and being set to 0.0 due to no predicted samples.\n",
      "  'precision', 'predicted', average, warn_for)\n",
      "/opt/conda/lib/python3.7/site-packages/sklearn/metrics/classification.py:1437: UndefinedMetricWarning: F-score is ill-defined and being set to 0.0 due to no predicted samples.\n",
      "  'precision', 'predicted', average, warn_for)\n",
      "/opt/conda/lib/python3.7/site-packages/sklearn/metrics/classification.py:1437: UndefinedMetricWarning: F-score is ill-defined and being set to 0.0 due to no predicted samples.\n",
      "  'precision', 'predicted', average, warn_for)\n",
      "/opt/conda/lib/python3.7/site-packages/sklearn/metrics/classification.py:1437: UndefinedMetricWarning: F-score is ill-defined and being set to 0.0 due to no predicted samples.\n",
      "  'precision', 'predicted', average, warn_for)\n",
      "/opt/conda/lib/python3.7/site-packages/sklearn/metrics/classification.py:1437: UndefinedMetricWarning: F-score is ill-defined and being set to 0.0 due to no predicted samples.\n",
      "  'precision', 'predicted', average, warn_for)\n",
      "/opt/conda/lib/python3.7/site-packages/sklearn/metrics/classification.py:1437: UndefinedMetricWarning: F-score is ill-defined and being set to 0.0 due to no predicted samples.\n",
      "  'precision', 'predicted', average, warn_for)\n",
      "/opt/conda/lib/python3.7/site-packages/sklearn/metrics/classification.py:1437: UndefinedMetricWarning: F-score is ill-defined and being set to 0.0 due to no predicted samples.\n",
      "  'precision', 'predicted', average, warn_for)\n",
      "/opt/conda/lib/python3.7/site-packages/sklearn/metrics/classification.py:1437: UndefinedMetricWarning: F-score is ill-defined and being set to 0.0 due to no predicted samples.\n",
      "  'precision', 'predicted', average, warn_for)\n",
      "/opt/conda/lib/python3.7/site-packages/sklearn/metrics/classification.py:1437: UndefinedMetricWarning: F-score is ill-defined and being set to 0.0 due to no predicted samples.\n",
      "  'precision', 'predicted', average, warn_for)\n",
      "/opt/conda/lib/python3.7/site-packages/sklearn/metrics/classification.py:1437: UndefinedMetricWarning: F-score is ill-defined and being set to 0.0 due to no predicted samples.\n",
      "  'precision', 'predicted', average, warn_for)\n",
      "/opt/conda/lib/python3.7/site-packages/sklearn/metrics/classification.py:1437: UndefinedMetricWarning: F-score is ill-defined and being set to 0.0 due to no predicted samples.\n",
      "  'precision', 'predicted', average, warn_for)\n",
      "/opt/conda/lib/python3.7/site-packages/sklearn/metrics/classification.py:1437: UndefinedMetricWarning: F-score is ill-defined and being set to 0.0 due to no predicted samples.\n",
      "  'precision', 'predicted', average, warn_for)\n",
      "/opt/conda/lib/python3.7/site-packages/sklearn/metrics/classification.py:1437: UndefinedMetricWarning: F-score is ill-defined and being set to 0.0 due to no predicted samples.\n",
      "  'precision', 'predicted', average, warn_for)\n",
      "/opt/conda/lib/python3.7/site-packages/sklearn/metrics/classification.py:1437: UndefinedMetricWarning: F-score is ill-defined and being set to 0.0 due to no predicted samples.\n",
      "  'precision', 'predicted', average, warn_for)\n",
      "/opt/conda/lib/python3.7/site-packages/sklearn/metrics/classification.py:1437: UndefinedMetricWarning: F-score is ill-defined and being set to 0.0 due to no predicted samples.\n",
      "  'precision', 'predicted', average, warn_for)\n"
     ]
    },
    {
     "name": "stdout",
     "output_type": "stream",
     "text": [
      "Best f1:  0.5918699186991869\n",
      "Best_depth:  14\n",
      "Best estimators:  13\n"
     ]
    }
   ],
   "source": [
    "best_depth = 0\n",
    "best_estimators = 0\n",
    "f1_max = 0\n",
    "for depth in range(1, 16):\n",
    "    for estimators in range(2, 20):\n",
    "        model = RandomForestClassifier(max_depth = depth, n_estimators=estimators, random_state=12345)\n",
    "        model.fit(features_train, target_train)\n",
    "        predictions_valid = model.predict(features_valid)\n",
    "        f1 = f1_score(target_valid, predictions_valid)\n",
    "        if f1 > f1_max:\n",
    "            f1_max=f1\n",
    "            best_depth = depth\n",
    "            best_estimators = estimators\n",
    "print('Best f1: ',f1_max)\n",
    "print('Best_depth: ', best_depth)\n",
    "print('Best estimators: ', best_estimators)"
   ]
  },
  {
   "cell_type": "markdown",
   "metadata": {},
   "source": [
    "Протестируем логистическую регрессию на тех же данных"
   ]
  },
  {
   "cell_type": "code",
   "execution_count": 17,
   "metadata": {},
   "outputs": [],
   "source": [
    "def regression_res(features_train, target_train, features_valid):\n",
    "    model_l = LogisticRegression(random_state=12345)\n",
    "    model_l.fit(features_train, target_train)\n",
    "    predictions = model_l.predict(features_valid)\n",
    "    f1 = f1_score(target_valid, predictions)\n",
    "    probability = model_l.predict_proba(features_valid)\n",
    "    probability_one = probability[:,1]\n",
    "    print('f1: ',f1)\n"
   ]
  },
  {
   "cell_type": "code",
   "execution_count": 18,
   "metadata": {},
   "outputs": [
    {
     "name": "stdout",
     "output_type": "stream",
     "text": [
      "f1:  0.07246376811594203\n"
     ]
    },
    {
     "name": "stderr",
     "output_type": "stream",
     "text": [
      "/opt/conda/lib/python3.7/site-packages/sklearn/linear_model/logistic.py:432: FutureWarning: Default solver will be changed to 'lbfgs' in 0.22. Specify a solver to silence this warning.\n",
      "  FutureWarning)\n"
     ]
    }
   ],
   "source": [
    "regression_res(features_train, target_train, features_valid)"
   ]
  },
  {
   "cell_type": "markdown",
   "metadata": {},
   "source": [
    "Значение метрики f1 значительно выше для случайного леса, 0.59 против 0.07"
   ]
  },
  {
   "cell_type": "markdown",
   "metadata": {},
   "source": [
    "roc-auc для наилучшей модели случайного леса"
   ]
  },
  {
   "cell_type": "code",
   "execution_count": 19,
   "metadata": {},
   "outputs": [],
   "source": [
    "disb_forest_model = RandomForestClassifier(n_estimators=13, max_depth=14, random_state=12345)\n",
    "disb_forest_model.fit(features_train, target_train)\n",
    "probability_one_forest = disb_forest_model.predict_proba(features_valid)[:,1]\n",
    "fpr_disb_forest, tpr_disb_forest, thresholds_disb_forest = roc_curve(target_valid, probability_one_forest)"
   ]
  },
  {
   "cell_type": "code",
   "execution_count": 20,
   "metadata": {},
   "outputs": [],
   "source": [
    "def roc_visualisation(fpr, tpr):\n",
    "    plt.figure()\n",
    "    plt.plot(fpr, tpr)\n",
    "    plt.plot([0, 1], [0, 1], linestyle='--')\n",
    "    plt.xlim([0.0, 1.0])\n",
    "    plt.ylim([0.0, 1.0])\n",
    "    plt.xlabel('False Positive Rate')\n",
    "    plt.ylabel('True Positive Rate')\n",
    "    plt.title('ROC-кривая')\n",
    "    plt.show()"
   ]
  },
  {
   "cell_type": "code",
   "execution_count": 21,
   "metadata": {},
   "outputs": [
    {
     "data": {
      "image/png": "[encoded data removed]",
      "text/plain": [
       "<Figure size 432x288 with 1 Axes>"
      ]
     },
     "metadata": {
      "needs_background": "light"
     },
     "output_type": "display_data"
    }
   ],
   "source": [
    "roc_visualisation(fpr_disb_forest, tpr_disb_forest)"
   ]
  },
  {
   "cell_type": "code",
   "execution_count": 22,
   "metadata": {},
   "outputs": [
    {
     "name": "stdout",
     "output_type": "stream",
     "text": [
      "Roc-auc for random disbalance forest:  0.844999696276348\n"
     ]
    }
   ],
   "source": [
    "print('Roc-auc for random disbalance forest: ', roc_auc_score(target_valid,probability_one_forest))"
   ]
  },
  {
   "cell_type": "markdown",
   "metadata": {},
   "source": [
    "Roc-auc для логистической регрессии"
   ]
  },
  {
   "cell_type": "code",
   "execution_count": 23,
   "metadata": {},
   "outputs": [
    {
     "name": "stderr",
     "output_type": "stream",
     "text": [
      "/opt/conda/lib/python3.7/site-packages/sklearn/linear_model/logistic.py:432: FutureWarning: Default solver will be changed to 'lbfgs' in 0.22. Specify a solver to silence this warning.\n",
      "  FutureWarning)\n"
     ]
    }
   ],
   "source": [
    "regression_disb_model = LogisticRegression(random_state=12345)\n",
    "regression_disb_model.fit(features_train, target_train)\n",
    "probability_one_regress = model.predict_proba(features_valid)[:,1]\n",
    "fpr_disb_regress, tpr_disb_regress, thresholds_disb_regress = roc_curve(target_valid, probability_one_regress)"
   ]
  },
  {
   "cell_type": "code",
   "execution_count": 24,
   "metadata": {},
   "outputs": [
    {
     "data": {
      "image/png": "[encoded data removed]",
      "text/plain": [
       "<Figure size 432x288 with 1 Axes>"
      ]
     },
     "metadata": {
      "needs_background": "light"
     },
     "output_type": "display_data"
    }
   ],
   "source": [
    "roc_visualisation(fpr_disb_regress, tpr_disb_regress)"
   ]
  },
  {
   "cell_type": "code",
   "execution_count": 25,
   "metadata": {},
   "outputs": [
    {
     "name": "stdout",
     "output_type": "stream",
     "text": [
      "Roc-auc for disbalance Logistic Regression:  0.8551054105147288\n"
     ]
    }
   ],
   "source": [
    "print('Roc-auc for disbalance Logistic Regression: ', roc_auc_score(target_valid,probability_one_regress))"
   ]
  },
  {
   "cell_type": "markdown",
   "metadata": {},
   "source": [
    "## Борьба с дисбалансом"
   ]
  },
  {
   "cell_type": "code",
   "execution_count": 26,
   "metadata": {},
   "outputs": [
    {
     "data": {
      "text/html": [
       "<div>\n",
       "<style scoped>\n",
       "    .dataframe tbody tr th:only-of-type {\n",
       "        vertical-align: middle;\n",
       "    }\n",
       "\n",
       "    .dataframe tbody tr th {\n",
       "        vertical-align: top;\n",
       "    }\n",
       "\n",
       "    .dataframe thead th {\n",
       "        text-align: right;\n",
       "    }\n",
       "</style>\n",
       "<table border=\"1\" class=\"dataframe\">\n",
       "  <thead>\n",
       "    <tr style=\"text-align: right;\">\n",
       "      <th></th>\n",
       "      <th>creditscore</th>\n",
       "      <th>age</th>\n",
       "      <th>tenure</th>\n",
       "      <th>balance</th>\n",
       "      <th>numofproducts</th>\n",
       "      <th>hascrcard</th>\n",
       "      <th>isactivemember</th>\n",
       "      <th>estimatedsalary</th>\n",
       "      <th>exited</th>\n",
       "      <th>geography_Germany</th>\n",
       "      <th>geography_Spain</th>\n",
       "      <th>gender_Male</th>\n",
       "    </tr>\n",
       "  </thead>\n",
       "  <tbody>\n",
       "    <tr>\n",
       "      <td>0</td>\n",
       "      <td>619</td>\n",
       "      <td>42</td>\n",
       "      <td>2.0</td>\n",
       "      <td>0.00</td>\n",
       "      <td>1</td>\n",
       "      <td>1</td>\n",
       "      <td>1</td>\n",
       "      <td>101348.88</td>\n",
       "      <td>1</td>\n",
       "      <td>0</td>\n",
       "      <td>0</td>\n",
       "      <td>0</td>\n",
       "    </tr>\n",
       "    <tr>\n",
       "      <td>1</td>\n",
       "      <td>608</td>\n",
       "      <td>41</td>\n",
       "      <td>1.0</td>\n",
       "      <td>83807.86</td>\n",
       "      <td>1</td>\n",
       "      <td>0</td>\n",
       "      <td>1</td>\n",
       "      <td>112542.58</td>\n",
       "      <td>0</td>\n",
       "      <td>0</td>\n",
       "      <td>1</td>\n",
       "      <td>0</td>\n",
       "    </tr>\n",
       "    <tr>\n",
       "      <td>2</td>\n",
       "      <td>502</td>\n",
       "      <td>42</td>\n",
       "      <td>8.0</td>\n",
       "      <td>159660.80</td>\n",
       "      <td>3</td>\n",
       "      <td>1</td>\n",
       "      <td>0</td>\n",
       "      <td>113931.57</td>\n",
       "      <td>1</td>\n",
       "      <td>0</td>\n",
       "      <td>0</td>\n",
       "      <td>0</td>\n",
       "    </tr>\n",
       "    <tr>\n",
       "      <td>3</td>\n",
       "      <td>699</td>\n",
       "      <td>39</td>\n",
       "      <td>1.0</td>\n",
       "      <td>0.00</td>\n",
       "      <td>2</td>\n",
       "      <td>0</td>\n",
       "      <td>0</td>\n",
       "      <td>93826.63</td>\n",
       "      <td>0</td>\n",
       "      <td>0</td>\n",
       "      <td>0</td>\n",
       "      <td>0</td>\n",
       "    </tr>\n",
       "    <tr>\n",
       "      <td>4</td>\n",
       "      <td>850</td>\n",
       "      <td>43</td>\n",
       "      <td>2.0</td>\n",
       "      <td>125510.82</td>\n",
       "      <td>1</td>\n",
       "      <td>1</td>\n",
       "      <td>1</td>\n",
       "      <td>79084.10</td>\n",
       "      <td>0</td>\n",
       "      <td>0</td>\n",
       "      <td>1</td>\n",
       "      <td>0</td>\n",
       "    </tr>\n",
       "    <tr>\n",
       "      <td>...</td>\n",
       "      <td>...</td>\n",
       "      <td>...</td>\n",
       "      <td>...</td>\n",
       "      <td>...</td>\n",
       "      <td>...</td>\n",
       "      <td>...</td>\n",
       "      <td>...</td>\n",
       "      <td>...</td>\n",
       "      <td>...</td>\n",
       "      <td>...</td>\n",
       "      <td>...</td>\n",
       "      <td>...</td>\n",
       "    </tr>\n",
       "    <tr>\n",
       "      <td>9994</td>\n",
       "      <td>800</td>\n",
       "      <td>29</td>\n",
       "      <td>2.0</td>\n",
       "      <td>0.00</td>\n",
       "      <td>2</td>\n",
       "      <td>0</td>\n",
       "      <td>0</td>\n",
       "      <td>167773.55</td>\n",
       "      <td>0</td>\n",
       "      <td>0</td>\n",
       "      <td>0</td>\n",
       "      <td>0</td>\n",
       "    </tr>\n",
       "    <tr>\n",
       "      <td>9995</td>\n",
       "      <td>771</td>\n",
       "      <td>39</td>\n",
       "      <td>5.0</td>\n",
       "      <td>0.00</td>\n",
       "      <td>2</td>\n",
       "      <td>1</td>\n",
       "      <td>0</td>\n",
       "      <td>96270.64</td>\n",
       "      <td>0</td>\n",
       "      <td>0</td>\n",
       "      <td>0</td>\n",
       "      <td>1</td>\n",
       "    </tr>\n",
       "    <tr>\n",
       "      <td>9996</td>\n",
       "      <td>516</td>\n",
       "      <td>35</td>\n",
       "      <td>10.0</td>\n",
       "      <td>57369.61</td>\n",
       "      <td>1</td>\n",
       "      <td>1</td>\n",
       "      <td>1</td>\n",
       "      <td>101699.77</td>\n",
       "      <td>0</td>\n",
       "      <td>0</td>\n",
       "      <td>0</td>\n",
       "      <td>1</td>\n",
       "    </tr>\n",
       "    <tr>\n",
       "      <td>9997</td>\n",
       "      <td>709</td>\n",
       "      <td>36</td>\n",
       "      <td>7.0</td>\n",
       "      <td>0.00</td>\n",
       "      <td>1</td>\n",
       "      <td>0</td>\n",
       "      <td>1</td>\n",
       "      <td>42085.58</td>\n",
       "      <td>1</td>\n",
       "      <td>0</td>\n",
       "      <td>0</td>\n",
       "      <td>0</td>\n",
       "    </tr>\n",
       "    <tr>\n",
       "      <td>9998</td>\n",
       "      <td>772</td>\n",
       "      <td>42</td>\n",
       "      <td>3.0</td>\n",
       "      <td>75075.31</td>\n",
       "      <td>2</td>\n",
       "      <td>1</td>\n",
       "      <td>0</td>\n",
       "      <td>92888.52</td>\n",
       "      <td>1</td>\n",
       "      <td>1</td>\n",
       "      <td>0</td>\n",
       "      <td>1</td>\n",
       "    </tr>\n",
       "  </tbody>\n",
       "</table>\n",
       "<p>9091 rows × 12 columns</p>\n",
       "</div>"
      ],
      "text/plain": [
       "      creditscore  age  tenure    balance  numofproducts  hascrcard  \\\n",
       "0             619   42     2.0       0.00              1          1   \n",
       "1             608   41     1.0   83807.86              1          0   \n",
       "2             502   42     8.0  159660.80              3          1   \n",
       "3             699   39     1.0       0.00              2          0   \n",
       "4             850   43     2.0  125510.82              1          1   \n",
       "...           ...  ...     ...        ...            ...        ...   \n",
       "9994          800   29     2.0       0.00              2          0   \n",
       "9995          771   39     5.0       0.00              2          1   \n",
       "9996          516   35    10.0   57369.61              1          1   \n",
       "9997          709   36     7.0       0.00              1          0   \n",
       "9998          772   42     3.0   75075.31              2          1   \n",
       "\n",
       "      isactivemember  estimatedsalary  exited  geography_Germany  \\\n",
       "0                  1        101348.88       1                  0   \n",
       "1                  1        112542.58       0                  0   \n",
       "2                  0        113931.57       1                  0   \n",
       "3                  0         93826.63       0                  0   \n",
       "4                  1         79084.10       0                  0   \n",
       "...              ...              ...     ...                ...   \n",
       "9994               0        167773.55       0                  0   \n",
       "9995               0         96270.64       0                  0   \n",
       "9996               1        101699.77       0                  0   \n",
       "9997               1         42085.58       1                  0   \n",
       "9998               0         92888.52       1                  1   \n",
       "\n",
       "      geography_Spain  gender_Male  \n",
       "0                   0            0  \n",
       "1                   1            0  \n",
       "2                   0            0  \n",
       "3                   0            0  \n",
       "4                   1            0  \n",
       "...               ...          ...  \n",
       "9994                0            0  \n",
       "9995                0            1  \n",
       "9996                0            1  \n",
       "9997                0            0  \n",
       "9998                0            1  \n",
       "\n",
       "[9091 rows x 12 columns]"
      ]
     },
     "execution_count": 26,
     "metadata": {},
     "output_type": "execute_result"
    }
   ],
   "source": [
    "data"
   ]
  },
  {
   "cell_type": "markdown",
   "metadata": {},
   "source": [
    "Необходимо провести масшатбирование признаков, так как порядки величин в некоторых столбцах различаются"
   ]
  },
  {
   "cell_type": "code",
   "execution_count": 27,
   "metadata": {},
   "outputs": [
    {
     "data": {
      "text/html": [
       "<div>\n",
       "<style scoped>\n",
       "    .dataframe tbody tr th:only-of-type {\n",
       "        vertical-align: middle;\n",
       "    }\n",
       "\n",
       "    .dataframe tbody tr th {\n",
       "        vertical-align: top;\n",
       "    }\n",
       "\n",
       "    .dataframe thead th {\n",
       "        text-align: right;\n",
       "    }\n",
       "</style>\n",
       "<table border=\"1\" class=\"dataframe\">\n",
       "  <thead>\n",
       "    <tr style=\"text-align: right;\">\n",
       "      <th></th>\n",
       "      <th>creditscore</th>\n",
       "      <th>age</th>\n",
       "      <th>tenure</th>\n",
       "      <th>balance</th>\n",
       "      <th>numofproducts</th>\n",
       "      <th>hascrcard</th>\n",
       "      <th>isactivemember</th>\n",
       "      <th>estimatedsalary</th>\n",
       "      <th>geography_Germany</th>\n",
       "      <th>geography_Spain</th>\n",
       "      <th>gender_Male</th>\n",
       "    </tr>\n",
       "  </thead>\n",
       "  <tbody>\n",
       "    <tr>\n",
       "      <td>0</td>\n",
       "      <td>0.809075</td>\n",
       "      <td>-1.039327</td>\n",
       "      <td>-1.025995</td>\n",
       "      <td>0.554904</td>\n",
       "      <td>-0.908179</td>\n",
       "      <td>0.663468</td>\n",
       "      <td>-1.024127</td>\n",
       "      <td>0.019508</td>\n",
       "      <td>-0.582290</td>\n",
       "      <td>-0.572128</td>\n",
       "      <td>-1.107304</td>\n",
       "    </tr>\n",
       "    <tr>\n",
       "      <td>1</td>\n",
       "      <td>-1.152518</td>\n",
       "      <td>-1.227561</td>\n",
       "      <td>0.696524</td>\n",
       "      <td>0.480609</td>\n",
       "      <td>-0.908179</td>\n",
       "      <td>-1.507231</td>\n",
       "      <td>-1.024127</td>\n",
       "      <td>0.056167</td>\n",
       "      <td>-0.582290</td>\n",
       "      <td>-0.572128</td>\n",
       "      <td>0.903094</td>\n",
       "    </tr>\n",
       "    <tr>\n",
       "      <td>2</td>\n",
       "      <td>-0.398853</td>\n",
       "      <td>0.090079</td>\n",
       "      <td>1.385532</td>\n",
       "      <td>-1.237830</td>\n",
       "      <td>-0.908179</td>\n",
       "      <td>0.663468</td>\n",
       "      <td>0.976442</td>\n",
       "      <td>0.848738</td>\n",
       "      <td>-0.582290</td>\n",
       "      <td>-0.572128</td>\n",
       "      <td>0.903094</td>\n",
       "    </tr>\n",
       "    <tr>\n",
       "      <td>3</td>\n",
       "      <td>-0.749875</td>\n",
       "      <td>-0.286389</td>\n",
       "      <td>0.352020</td>\n",
       "      <td>-1.237830</td>\n",
       "      <td>0.809300</td>\n",
       "      <td>0.663468</td>\n",
       "      <td>0.976442</td>\n",
       "      <td>-0.894953</td>\n",
       "      <td>-0.582290</td>\n",
       "      <td>-0.572128</td>\n",
       "      <td>0.903094</td>\n",
       "    </tr>\n",
       "    <tr>\n",
       "      <td>4</td>\n",
       "      <td>-1.028628</td>\n",
       "      <td>-0.756975</td>\n",
       "      <td>-0.336987</td>\n",
       "      <td>-1.237830</td>\n",
       "      <td>0.809300</td>\n",
       "      <td>-1.507231</td>\n",
       "      <td>0.976442</td>\n",
       "      <td>-1.284516</td>\n",
       "      <td>-0.582290</td>\n",
       "      <td>-0.572128</td>\n",
       "      <td>0.903094</td>\n",
       "    </tr>\n",
       "    <tr>\n",
       "      <td>...</td>\n",
       "      <td>...</td>\n",
       "      <td>...</td>\n",
       "      <td>...</td>\n",
       "      <td>...</td>\n",
       "      <td>...</td>\n",
       "      <td>...</td>\n",
       "      <td>...</td>\n",
       "      <td>...</td>\n",
       "      <td>...</td>\n",
       "      <td>...</td>\n",
       "      <td>...</td>\n",
       "    </tr>\n",
       "    <tr>\n",
       "      <td>5449</td>\n",
       "      <td>1.283988</td>\n",
       "      <td>-0.474624</td>\n",
       "      <td>1.730036</td>\n",
       "      <td>0.813031</td>\n",
       "      <td>-0.908179</td>\n",
       "      <td>-1.507231</td>\n",
       "      <td>-1.024127</td>\n",
       "      <td>-1.092767</td>\n",
       "      <td>1.717356</td>\n",
       "      <td>-0.572128</td>\n",
       "      <td>0.903094</td>\n",
       "    </tr>\n",
       "    <tr>\n",
       "      <td>5450</td>\n",
       "      <td>0.158652</td>\n",
       "      <td>0.466548</td>\n",
       "      <td>1.041028</td>\n",
       "      <td>1.071609</td>\n",
       "      <td>-0.908179</td>\n",
       "      <td>0.663468</td>\n",
       "      <td>0.976442</td>\n",
       "      <td>0.260842</td>\n",
       "      <td>-0.582290</td>\n",
       "      <td>-0.572128</td>\n",
       "      <td>-1.107304</td>\n",
       "    </tr>\n",
       "    <tr>\n",
       "      <td>5451</td>\n",
       "      <td>-1.049276</td>\n",
       "      <td>-0.945210</td>\n",
       "      <td>0.352020</td>\n",
       "      <td>0.449165</td>\n",
       "      <td>-0.908179</td>\n",
       "      <td>0.663468</td>\n",
       "      <td>0.976442</td>\n",
       "      <td>-1.086965</td>\n",
       "      <td>-0.582290</td>\n",
       "      <td>-0.572128</td>\n",
       "      <td>-1.107304</td>\n",
       "    </tr>\n",
       "    <tr>\n",
       "      <td>5452</td>\n",
       "      <td>-0.956359</td>\n",
       "      <td>1.219485</td>\n",
       "      <td>1.385532</td>\n",
       "      <td>-1.237830</td>\n",
       "      <td>-0.908179</td>\n",
       "      <td>0.663468</td>\n",
       "      <td>-1.024127</td>\n",
       "      <td>1.288527</td>\n",
       "      <td>-0.582290</td>\n",
       "      <td>-0.572128</td>\n",
       "      <td>-1.107304</td>\n",
       "    </tr>\n",
       "    <tr>\n",
       "      <td>5453</td>\n",
       "      <td>1.222043</td>\n",
       "      <td>-1.509912</td>\n",
       "      <td>-1.025995</td>\n",
       "      <td>1.015938</td>\n",
       "      <td>-0.908179</td>\n",
       "      <td>-1.507231</td>\n",
       "      <td>0.976442</td>\n",
       "      <td>-1.244002</td>\n",
       "      <td>1.717356</td>\n",
       "      <td>-0.572128</td>\n",
       "      <td>0.903094</td>\n",
       "    </tr>\n",
       "  </tbody>\n",
       "</table>\n",
       "<p>5454 rows × 11 columns</p>\n",
       "</div>"
      ],
      "text/plain": [
       "      creditscore       age    tenure   balance  numofproducts  hascrcard  \\\n",
       "0        0.809075 -1.039327 -1.025995  0.554904      -0.908179   0.663468   \n",
       "1       -1.152518 -1.227561  0.696524  0.480609      -0.908179  -1.507231   \n",
       "2       -0.398853  0.090079  1.385532 -1.237830      -0.908179   0.663468   \n",
       "3       -0.749875 -0.286389  0.352020 -1.237830       0.809300   0.663468   \n",
       "4       -1.028628 -0.756975 -0.336987 -1.237830       0.809300  -1.507231   \n",
       "...           ...       ...       ...       ...            ...        ...   \n",
       "5449     1.283988 -0.474624  1.730036  0.813031      -0.908179  -1.507231   \n",
       "5450     0.158652  0.466548  1.041028  1.071609      -0.908179   0.663468   \n",
       "5451    -1.049276 -0.945210  0.352020  0.449165      -0.908179   0.663468   \n",
       "5452    -0.956359  1.219485  1.385532 -1.237830      -0.908179   0.663468   \n",
       "5453     1.222043 -1.509912 -1.025995  1.015938      -0.908179  -1.507231   \n",
       "\n",
       "      isactivemember  estimatedsalary  geography_Germany  geography_Spain  \\\n",
       "0          -1.024127         0.019508          -0.582290        -0.572128   \n",
       "1          -1.024127         0.056167          -0.582290        -0.572128   \n",
       "2           0.976442         0.848738          -0.582290        -0.572128   \n",
       "3           0.976442        -0.894953          -0.582290        -0.572128   \n",
       "4           0.976442        -1.284516          -0.582290        -0.572128   \n",
       "...              ...              ...                ...              ...   \n",
       "5449       -1.024127        -1.092767           1.717356        -0.572128   \n",
       "5450        0.976442         0.260842          -0.582290        -0.572128   \n",
       "5451        0.976442        -1.086965          -0.582290        -0.572128   \n",
       "5452       -1.024127         1.288527          -0.582290        -0.572128   \n",
       "5453        0.976442        -1.244002           1.717356        -0.572128   \n",
       "\n",
       "      gender_Male  \n",
       "0       -1.107304  \n",
       "1        0.903094  \n",
       "2        0.903094  \n",
       "3        0.903094  \n",
       "4        0.903094  \n",
       "...           ...  \n",
       "5449     0.903094  \n",
       "5450    -1.107304  \n",
       "5451    -1.107304  \n",
       "5452    -1.107304  \n",
       "5453     0.903094  \n",
       "\n",
       "[5454 rows x 11 columns]"
      ]
     },
     "execution_count": 27,
     "metadata": {},
     "output_type": "execute_result"
    }
   ],
   "source": [
    "scaler = StandardScaler()\n",
    "scaler.fit(features_train)\n",
    "features_train = pd.DataFrame(scaler.transform(features_train), columns=features_train.columns)\n",
    "features_valid = pd.DataFrame(scaler.transform(features_valid), columns=features_valid.columns)\n",
    "features_test = pd.DataFrame(scaler.transform(features_test), columns=features_test.columns)\n",
    "features_train"
   ]
  },
  {
   "cell_type": "markdown",
   "metadata": {},
   "source": [
    "Применим технику баланса классов, как аргумент при вызове модели"
   ]
  },
  {
   "cell_type": "code",
   "execution_count": 28,
   "metadata": {},
   "outputs": [],
   "source": [
    "def balanced_forest_res(features_train, target_train, features_valid, balance):\n",
    "    best_depth = 0\n",
    "    best_estimators = 0\n",
    "    best_f1_ = 0\n",
    "    for depth in range(2, 17, 1):\n",
    "        for estimators in range(2, 20):\n",
    "            if(balance):\n",
    "                model_f = RandomForestClassifier(n_estimators=estimators, max_depth=depth, random_state=12345,\n",
    "                                         class_weight='balanced'\n",
    "                                         )\n",
    "            else:\n",
    "                model_f = RandomForestClassifier(n_estimators=estimators, max_depth=depth, random_state=12345)\n",
    "            model_f.fit(features_train, target_train)\n",
    "            predictions_valid = model_f.predict(features_valid)\n",
    "            probability_one = model_f.predict_proba(features_valid)[:,1]\n",
    "            f1 = f1_score(target_valid, predictions_valid)\n",
    "            if f1 > best_f1_:\n",
    "                best_f1_ = f1\n",
    "                best_depth = depth\n",
    "                best_estimators = estimators\n",
    "                best_forest_balanced_model = model_f\n",
    "    print('f1: ', best_f1_)\n",
    "    print('Best depth: ', best_depth)\n",
    "    print('Best estimators: ', best_estimators)"
   ]
  },
  {
   "cell_type": "code",
   "execution_count": 29,
   "metadata": {},
   "outputs": [
    {
     "name": "stdout",
     "output_type": "stream",
     "text": [
      "f1:  0.6444188722669736\n",
      "Best depth:  7\n",
      "Best estimators:  13\n"
     ]
    }
   ],
   "source": [
    "balanced_forest_res(features_train, target_train, features_valid, True)"
   ]
  },
  {
   "cell_type": "code",
   "execution_count": 30,
   "metadata": {},
   "outputs": [
    {
     "name": "stdout",
     "output_type": "stream",
     "text": [
      "0.509731232622799\n"
     ]
    },
    {
     "name": "stderr",
     "output_type": "stream",
     "text": [
      "/opt/conda/lib/python3.7/site-packages/sklearn/linear_model/logistic.py:432: FutureWarning: Default solver will be changed to 'lbfgs' in 0.22. Specify a solver to silence this warning.\n",
      "  FutureWarning)\n"
     ]
    }
   ],
   "source": [
    "regression_balanced_model = LogisticRegression(random_state=12345, class_weight='balanced') \n",
    "regression_balanced_model.fit(features_train, target_train)\n",
    "regression_predictions = regression_balanced_model.predict(features_valid)\n",
    "f1_regression_balance = f1_score(target_valid, regression_predictions)\n",
    "print(f1_regression_balance)"
   ]
  },
  {
   "cell_type": "markdown",
   "metadata": {},
   "source": [
    "При балансировке результаты на регрессии улучшились, но они все равно ниже, чем результаты на случайном лесе 0.64 против 0.50"
   ]
  },
  {
   "cell_type": "markdown",
   "metadata": {},
   "source": [
    "применение техники upsampling"
   ]
  },
  {
   "cell_type": "code",
   "execution_count": 31,
   "metadata": {},
   "outputs": [],
   "source": [
    "def upsample(features, target, repeat):\n",
    "    features_zeros = features[target==0]\n",
    "    features_ones = features[target==1]\n",
    "    target_ones = target[target==1]\n",
    "    target_zeros = target[target==0]\n",
    "    features_upsample = pd.concat([features_ones]*repeat + [features_zeros])\n",
    "    target_upsample = pd.concat([target_ones]*repeat + [target_zeros])\n",
    "    features_upsample, target_upsample = shuffle(features_upsample, target_upsample, random_state=12345)\n",
    "    return features_upsample, target_upsample"
   ]
  },
  {
   "cell_type": "code",
   "execution_count": 32,
   "metadata": {},
   "outputs": [
    {
     "data": {
      "text/html": [
       "<div>\n",
       "<style scoped>\n",
       "    .dataframe tbody tr th:only-of-type {\n",
       "        vertical-align: middle;\n",
       "    }\n",
       "\n",
       "    .dataframe tbody tr th {\n",
       "        vertical-align: top;\n",
       "    }\n",
       "\n",
       "    .dataframe thead th {\n",
       "        text-align: right;\n",
       "    }\n",
       "</style>\n",
       "<table border=\"1\" class=\"dataframe\">\n",
       "  <thead>\n",
       "    <tr style=\"text-align: right;\">\n",
       "      <th></th>\n",
       "      <th>creditscore</th>\n",
       "      <th>age</th>\n",
       "      <th>tenure</th>\n",
       "      <th>balance</th>\n",
       "      <th>numofproducts</th>\n",
       "      <th>hascrcard</th>\n",
       "      <th>isactivemember</th>\n",
       "      <th>estimatedsalary</th>\n",
       "      <th>geography_Germany</th>\n",
       "      <th>geography_Spain</th>\n",
       "      <th>gender_Male</th>\n",
       "    </tr>\n",
       "  </thead>\n",
       "  <tbody>\n",
       "    <tr>\n",
       "      <td>0</td>\n",
       "      <td>0.809075</td>\n",
       "      <td>-1.039327</td>\n",
       "      <td>-1.025995</td>\n",
       "      <td>0.554904</td>\n",
       "      <td>-0.908179</td>\n",
       "      <td>0.663468</td>\n",
       "      <td>-1.024127</td>\n",
       "      <td>0.019508</td>\n",
       "      <td>-0.582290</td>\n",
       "      <td>-0.572128</td>\n",
       "      <td>-1.107304</td>\n",
       "    </tr>\n",
       "    <tr>\n",
       "      <td>1</td>\n",
       "      <td>-1.152518</td>\n",
       "      <td>-1.227561</td>\n",
       "      <td>0.696524</td>\n",
       "      <td>0.480609</td>\n",
       "      <td>-0.908179</td>\n",
       "      <td>-1.507231</td>\n",
       "      <td>-1.024127</td>\n",
       "      <td>0.056167</td>\n",
       "      <td>-0.582290</td>\n",
       "      <td>-0.572128</td>\n",
       "      <td>0.903094</td>\n",
       "    </tr>\n",
       "    <tr>\n",
       "      <td>2</td>\n",
       "      <td>-0.398853</td>\n",
       "      <td>0.090079</td>\n",
       "      <td>1.385532</td>\n",
       "      <td>-1.237830</td>\n",
       "      <td>-0.908179</td>\n",
       "      <td>0.663468</td>\n",
       "      <td>0.976442</td>\n",
       "      <td>0.848738</td>\n",
       "      <td>-0.582290</td>\n",
       "      <td>-0.572128</td>\n",
       "      <td>0.903094</td>\n",
       "    </tr>\n",
       "    <tr>\n",
       "      <td>3</td>\n",
       "      <td>-0.749875</td>\n",
       "      <td>-0.286389</td>\n",
       "      <td>0.352020</td>\n",
       "      <td>-1.237830</td>\n",
       "      <td>0.809300</td>\n",
       "      <td>0.663468</td>\n",
       "      <td>0.976442</td>\n",
       "      <td>-0.894953</td>\n",
       "      <td>-0.582290</td>\n",
       "      <td>-0.572128</td>\n",
       "      <td>0.903094</td>\n",
       "    </tr>\n",
       "    <tr>\n",
       "      <td>4</td>\n",
       "      <td>-1.028628</td>\n",
       "      <td>-0.756975</td>\n",
       "      <td>-0.336987</td>\n",
       "      <td>-1.237830</td>\n",
       "      <td>0.809300</td>\n",
       "      <td>-1.507231</td>\n",
       "      <td>0.976442</td>\n",
       "      <td>-1.284516</td>\n",
       "      <td>-0.582290</td>\n",
       "      <td>-0.572128</td>\n",
       "      <td>0.903094</td>\n",
       "    </tr>\n",
       "    <tr>\n",
       "      <td>...</td>\n",
       "      <td>...</td>\n",
       "      <td>...</td>\n",
       "      <td>...</td>\n",
       "      <td>...</td>\n",
       "      <td>...</td>\n",
       "      <td>...</td>\n",
       "      <td>...</td>\n",
       "      <td>...</td>\n",
       "      <td>...</td>\n",
       "      <td>...</td>\n",
       "      <td>...</td>\n",
       "    </tr>\n",
       "    <tr>\n",
       "      <td>5449</td>\n",
       "      <td>1.283988</td>\n",
       "      <td>-0.474624</td>\n",
       "      <td>1.730036</td>\n",
       "      <td>0.813031</td>\n",
       "      <td>-0.908179</td>\n",
       "      <td>-1.507231</td>\n",
       "      <td>-1.024127</td>\n",
       "      <td>-1.092767</td>\n",
       "      <td>1.717356</td>\n",
       "      <td>-0.572128</td>\n",
       "      <td>0.903094</td>\n",
       "    </tr>\n",
       "    <tr>\n",
       "      <td>5450</td>\n",
       "      <td>0.158652</td>\n",
       "      <td>0.466548</td>\n",
       "      <td>1.041028</td>\n",
       "      <td>1.071609</td>\n",
       "      <td>-0.908179</td>\n",
       "      <td>0.663468</td>\n",
       "      <td>0.976442</td>\n",
       "      <td>0.260842</td>\n",
       "      <td>-0.582290</td>\n",
       "      <td>-0.572128</td>\n",
       "      <td>-1.107304</td>\n",
       "    </tr>\n",
       "    <tr>\n",
       "      <td>5451</td>\n",
       "      <td>-1.049276</td>\n",
       "      <td>-0.945210</td>\n",
       "      <td>0.352020</td>\n",
       "      <td>0.449165</td>\n",
       "      <td>-0.908179</td>\n",
       "      <td>0.663468</td>\n",
       "      <td>0.976442</td>\n",
       "      <td>-1.086965</td>\n",
       "      <td>-0.582290</td>\n",
       "      <td>-0.572128</td>\n",
       "      <td>-1.107304</td>\n",
       "    </tr>\n",
       "    <tr>\n",
       "      <td>5452</td>\n",
       "      <td>-0.956359</td>\n",
       "      <td>1.219485</td>\n",
       "      <td>1.385532</td>\n",
       "      <td>-1.237830</td>\n",
       "      <td>-0.908179</td>\n",
       "      <td>0.663468</td>\n",
       "      <td>-1.024127</td>\n",
       "      <td>1.288527</td>\n",
       "      <td>-0.582290</td>\n",
       "      <td>-0.572128</td>\n",
       "      <td>-1.107304</td>\n",
       "    </tr>\n",
       "    <tr>\n",
       "      <td>5453</td>\n",
       "      <td>1.222043</td>\n",
       "      <td>-1.509912</td>\n",
       "      <td>-1.025995</td>\n",
       "      <td>1.015938</td>\n",
       "      <td>-0.908179</td>\n",
       "      <td>-1.507231</td>\n",
       "      <td>0.976442</td>\n",
       "      <td>-1.244002</td>\n",
       "      <td>1.717356</td>\n",
       "      <td>-0.572128</td>\n",
       "      <td>0.903094</td>\n",
       "    </tr>\n",
       "  </tbody>\n",
       "</table>\n",
       "<p>5454 rows × 11 columns</p>\n",
       "</div>"
      ],
      "text/plain": [
       "      creditscore       age    tenure   balance  numofproducts  hascrcard  \\\n",
       "0        0.809075 -1.039327 -1.025995  0.554904      -0.908179   0.663468   \n",
       "1       -1.152518 -1.227561  0.696524  0.480609      -0.908179  -1.507231   \n",
       "2       -0.398853  0.090079  1.385532 -1.237830      -0.908179   0.663468   \n",
       "3       -0.749875 -0.286389  0.352020 -1.237830       0.809300   0.663468   \n",
       "4       -1.028628 -0.756975 -0.336987 -1.237830       0.809300  -1.507231   \n",
       "...           ...       ...       ...       ...            ...        ...   \n",
       "5449     1.283988 -0.474624  1.730036  0.813031      -0.908179  -1.507231   \n",
       "5450     0.158652  0.466548  1.041028  1.071609      -0.908179   0.663468   \n",
       "5451    -1.049276 -0.945210  0.352020  0.449165      -0.908179   0.663468   \n",
       "5452    -0.956359  1.219485  1.385532 -1.237830      -0.908179   0.663468   \n",
       "5453     1.222043 -1.509912 -1.025995  1.015938      -0.908179  -1.507231   \n",
       "\n",
       "      isactivemember  estimatedsalary  geography_Germany  geography_Spain  \\\n",
       "0          -1.024127         0.019508          -0.582290        -0.572128   \n",
       "1          -1.024127         0.056167          -0.582290        -0.572128   \n",
       "2           0.976442         0.848738          -0.582290        -0.572128   \n",
       "3           0.976442        -0.894953          -0.582290        -0.572128   \n",
       "4           0.976442        -1.284516          -0.582290        -0.572128   \n",
       "...              ...              ...                ...              ...   \n",
       "5449       -1.024127        -1.092767           1.717356        -0.572128   \n",
       "5450        0.976442         0.260842          -0.582290        -0.572128   \n",
       "5451        0.976442        -1.086965          -0.582290        -0.572128   \n",
       "5452       -1.024127         1.288527          -0.582290        -0.572128   \n",
       "5453        0.976442        -1.244002           1.717356        -0.572128   \n",
       "\n",
       "      gender_Male  \n",
       "0       -1.107304  \n",
       "1        0.903094  \n",
       "2        0.903094  \n",
       "3        0.903094  \n",
       "4        0.903094  \n",
       "...           ...  \n",
       "5449     0.903094  \n",
       "5450    -1.107304  \n",
       "5451    -1.107304  \n",
       "5452    -1.107304  \n",
       "5453     0.903094  \n",
       "\n",
       "[5454 rows x 11 columns]"
      ]
     },
     "execution_count": 32,
     "metadata": {},
     "output_type": "execute_result"
    }
   ],
   "source": [
    "features_train"
   ]
  },
  {
   "cell_type": "code",
   "execution_count": 33,
   "metadata": {},
   "outputs": [
    {
     "data": {
      "text/plain": [
       "(8832, 11)"
      ]
     },
     "execution_count": 33,
     "metadata": {},
     "output_type": "execute_result"
    }
   ],
   "source": [
    "features_train_upsample, target_train_upsample = upsample(features_train, target_train, 4)\n",
    "features_train_upsample.shape"
   ]
  },
  {
   "cell_type": "code",
   "execution_count": 34,
   "metadata": {},
   "outputs": [
    {
     "name": "stdout",
     "output_type": "stream",
     "text": [
      "f1:  0.6289655172413793\n",
      "Best depth:  15\n",
      "Best estimators:  17\n"
     ]
    }
   ],
   "source": [
    "balanced_forest_res(features_train_upsample, target_train_upsample, features_valid, False)"
   ]
  },
  {
   "cell_type": "code",
   "execution_count": 35,
   "metadata": {},
   "outputs": [
    {
     "name": "stdout",
     "output_type": "stream",
     "text": [
      "f1:  0.5081374321880651\n"
     ]
    },
    {
     "name": "stderr",
     "output_type": "stream",
     "text": [
      "/opt/conda/lib/python3.7/site-packages/sklearn/linear_model/logistic.py:432: FutureWarning: Default solver will be changed to 'lbfgs' in 0.22. Specify a solver to silence this warning.\n",
      "  FutureWarning)\n"
     ]
    }
   ],
   "source": [
    "regression_res(features_train_upsample, target_train_upsample, features_valid)"
   ]
  },
  {
   "cell_type": "markdown",
   "metadata": {},
   "source": [
    "Применение техники upsample не улучшило имеющиеся результаты для случайного леса, но улучшило для регрессии"
   ]
  },
  {
   "cell_type": "markdown",
   "metadata": {},
   "source": [
    "Применение техники downsample"
   ]
  },
  {
   "cell_type": "code",
   "execution_count": 36,
   "metadata": {},
   "outputs": [],
   "source": [
    "def downsample(features, target):\n",
    "    features_zeros = features[target==0].sample(frac=0.4, random_state=12345)\n",
    "    target_zeros = target[target==0].sample(frac=0.4, random_state=12345)\n",
    "    features_ones = features[target==1]\n",
    "    target_ones = target[target==1]\n",
    "    features_downsample = pd.concat([features_zeros] + [features_ones])\n",
    "    target_downsample = pd.concat([target_zeros] + [target_ones])\n",
    "    features_downsample, target_downsample = shuffle(features_downsample, target_downsample, random_state=12345)\n",
    "    return features_downsample, target_downsample"
   ]
  },
  {
   "cell_type": "code",
   "execution_count": 37,
   "metadata": {},
   "outputs": [
    {
     "data": {
      "text/plain": [
       "(2857, 11)"
      ]
     },
     "execution_count": 37,
     "metadata": {},
     "output_type": "execute_result"
    }
   ],
   "source": [
    "features_train_downsample, target_train_downsample = downsample(features_train, target_train)\n",
    "features_train_downsample.shape"
   ]
  },
  {
   "cell_type": "code",
   "execution_count": 38,
   "metadata": {},
   "outputs": [
    {
     "name": "stdout",
     "output_type": "stream",
     "text": [
      "f1:  0.6421768707482993\n",
      "Best depth:  4\n",
      "Best estimators:  13\n"
     ]
    }
   ],
   "source": [
    "balanced_forest_res(features_train_downsample, target_train_downsample, features_valid, False)"
   ]
  },
  {
   "cell_type": "code",
   "execution_count": 39,
   "metadata": {},
   "outputs": [
    {
     "name": "stdout",
     "output_type": "stream",
     "text": [
      "f1:  0.4975609756097561\n"
     ]
    },
    {
     "name": "stderr",
     "output_type": "stream",
     "text": [
      "/opt/conda/lib/python3.7/site-packages/sklearn/linear_model/logistic.py:432: FutureWarning: Default solver will be changed to 'lbfgs' in 0.22. Specify a solver to silence this warning.\n",
      "  FutureWarning)\n"
     ]
    }
   ],
   "source": [
    "regression_res(features_train_downsample, target_train_downsample, features_valid)"
   ]
  },
  {
   "cell_type": "markdown",
   "metadata": {},
   "source": [
    "Наилучший результат по метрике f1 показала модель случайного леса с оценкой баланса класса, ее значение метрики f1=0.644, также хороший результат показала модель, обученная на основе случайного леса и техники downsample f1=0.642"
   ]
  },
  {
   "cell_type": "markdown",
   "metadata": {},
   "source": [
    "Roc-auc для взвешенных классов"
   ]
  },
  {
   "cell_type": "code",
   "execution_count": 40,
   "metadata": {},
   "outputs": [],
   "source": [
    "def forest_model(features_train, target_train, estimators, depth, weight):\n",
    "    if weight:\n",
    "        model = RandomForestClassifier(max_depth=depth, n_estimators=estimators, random_state=12345, \n",
    "                                       class_weight='balanced')\n",
    "    else:\n",
    "        model = RandomForestClassifier(max_depth=depth, n_estimators=estimators, random_state=12345)                                     \n",
    "    model.fit(features_train, target_train)\n",
    "    return model"
   ]
  },
  {
   "cell_type": "code",
   "execution_count": 41,
   "metadata": {},
   "outputs": [],
   "source": [
    "def regression_model(features_train, target_train, weight):\n",
    "    if weight:\n",
    "        model = LogisticRegression(class_weight='balanced', random_state=12345)\n",
    "    else:\n",
    "        model = LogisticRegression(random_state=12345)\n",
    "    model.fit(features_train, target_train)\n",
    "    return model"
   ]
  },
  {
   "cell_type": "code",
   "execution_count": 42,
   "metadata": {},
   "outputs": [],
   "source": [
    "weight_forest_model = forest_model(features_train, target_train,13, 7, True)\n",
    "probability_one_weight_forest = weight_forest_model.predict_proba(features_valid)[:,1]\n",
    "fpr_weight_forest, tpr_weight_forest, thresholds_weight_forest = roc_curve(target_valid,probability_one_weight_forest)"
   ]
  },
  {
   "cell_type": "code",
   "execution_count": 43,
   "metadata": {},
   "outputs": [
    {
     "data": {
      "image/png": "[encoded data removed]",
      "text/plain": [
       "<Figure size 432x288 with 1 Axes>"
      ]
     },
     "metadata": {
      "needs_background": "light"
     },
     "output_type": "display_data"
    }
   ],
   "source": [
    "roc_visualisation(fpr_weight_forest, tpr_weight_forest)"
   ]
  },
  {
   "cell_type": "code",
   "execution_count": 44,
   "metadata": {},
   "outputs": [
    {
     "name": "stdout",
     "output_type": "stream",
     "text": [
      "Roc-auc for random weight forest:  0.8676077804795889\n"
     ]
    }
   ],
   "source": [
    "print('Roc-auc for random weight forest: ', roc_auc_score(target_valid,probability_one_weight_forest))"
   ]
  },
  {
   "cell_type": "code",
   "execution_count": 45,
   "metadata": {},
   "outputs": [
    {
     "name": "stderr",
     "output_type": "stream",
     "text": [
      "/opt/conda/lib/python3.7/site-packages/sklearn/linear_model/logistic.py:432: FutureWarning: Default solver will be changed to 'lbfgs' in 0.22. Specify a solver to silence this warning.\n",
      "  FutureWarning)\n"
     ]
    }
   ],
   "source": [
    "weight_regression_model = regression_model(features_train, target_train, True)\n",
    "probability_one_weight_regression = weight_regression_model.predict_proba(features_valid)[:,1]\n",
    "fpr_weight_regression, tpr_weight_regression, thresholds_weight_regression = roc_curve(target_valid, \n",
    "                                                                                       probability_one_weight_regression)"
   ]
  },
  {
   "cell_type": "code",
   "execution_count": 46,
   "metadata": {},
   "outputs": [
    {
     "data": {
      "image/png": "[encoded data removed]",
      "text/plain": [
       "<Figure size 432x288 with 1 Axes>"
      ]
     },
     "metadata": {
      "needs_background": "light"
     },
     "output_type": "display_data"
    }
   ],
   "source": [
    "roc_visualisation(fpr_weight_regression, tpr_weight_regression)"
   ]
  },
  {
   "cell_type": "code",
   "execution_count": 47,
   "metadata": {},
   "outputs": [
    {
     "name": "stdout",
     "output_type": "stream",
     "text": [
      "Roc-auc for weight logistic regression :  0.7777515982306715\n"
     ]
    }
   ],
   "source": [
    "print('Roc-auc for weight logistic regression : ', roc_auc_score(target_valid,probability_one_weight_regression))"
   ]
  },
  {
   "cell_type": "markdown",
   "metadata": {},
   "source": [
    "Roc-auc для upsampling"
   ]
  },
  {
   "cell_type": "code",
   "execution_count": 48,
   "metadata": {},
   "outputs": [],
   "source": [
    "upsampling_forest_model = forest_model(features_train_upsample, target_train_upsample, 17, 15, False)\n",
    "probability_one_upsampling_forest = upsampling_forest_model.predict_proba(features_valid)[:,1]\n",
    "fpr_upsampling_forest, tpr_upsampling_forest, thresholds_upsampling_foret = roc_curve(target_valid, \n",
    "                                                                                      probability_one_upsampling_forest)"
   ]
  },
  {
   "cell_type": "code",
   "execution_count": 49,
   "metadata": {},
   "outputs": [
    {
     "data": {
      "image/png": "[encoded data removed]",
      "text/plain": [
       "<Figure size 432x288 with 1 Axes>"
      ]
     },
     "metadata": {
      "needs_background": "light"
     },
     "output_type": "display_data"
    }
   ],
   "source": [
    "roc_visualisation(fpr_upsampling_forest, tpr_upsampling_forest)"
   ]
  },
  {
   "cell_type": "code",
   "execution_count": 50,
   "metadata": {},
   "outputs": [
    {
     "name": "stdout",
     "output_type": "stream",
     "text": [
      "Roc-auc for upsample random forest:  0.853727609584414\n"
     ]
    }
   ],
   "source": [
    "print('Roc-auc for upsample random forest: ', roc_auc_score(target_valid,probability_one_upsampling_forest))"
   ]
  },
  {
   "cell_type": "code",
   "execution_count": 51,
   "metadata": {},
   "outputs": [
    {
     "name": "stderr",
     "output_type": "stream",
     "text": [
      "/opt/conda/lib/python3.7/site-packages/sklearn/linear_model/logistic.py:432: FutureWarning: Default solver will be changed to 'lbfgs' in 0.22. Specify a solver to silence this warning.\n",
      "  FutureWarning)\n"
     ]
    }
   ],
   "source": [
    "upsampling_regress_model = regression_model(features_train_upsample, target_train_upsample, False)\n",
    "probability_one_upsampling_regress = upsampling_regress_model.predict_proba(features_valid)[:,1]\n",
    "fpr_upsampling_regress, tpr_upsampling_regress, thresholds_upsampling_regress = roc_curve(target_valid,\n",
    "                                                                                         probability_one_upsampling_regress\n",
    "                                                                                         )"
   ]
  },
  {
   "cell_type": "code",
   "execution_count": 52,
   "metadata": {},
   "outputs": [
    {
     "data": {
      "image/png": "[encoded data removed]",
      "text/plain": [
       "<Figure size 432x288 with 1 Axes>"
      ]
     },
     "metadata": {
      "needs_background": "light"
     },
     "output_type": "display_data"
    }
   ],
   "source": [
    "roc_visualisation(fpr_upsampling_regress, tpr_upsampling_regress)"
   ]
  },
  {
   "cell_type": "code",
   "execution_count": 53,
   "metadata": {},
   "outputs": [
    {
     "name": "stdout",
     "output_type": "stream",
     "text": [
      "Roc-auc for upsample logistic regression :  0.777854680197402\n"
     ]
    }
   ],
   "source": [
    "print('Roc-auc for upsample logistic regression : ', roc_auc_score(target_valid,probability_one_upsampling_regress))"
   ]
  },
  {
   "cell_type": "markdown",
   "metadata": {},
   "source": [
    "Roc-auc для downsample"
   ]
  },
  {
   "cell_type": "code",
   "execution_count": 54,
   "metadata": {},
   "outputs": [],
   "source": [
    "downsampling_forest_model = forest_model(features_train_downsample, target_train_downsample, 13, 4, False)\n",
    "probability_one_downsampling_forest = downsampling_forest_model.predict_proba(features_valid)[:,1]\n",
    "fpr_downsampling_forest, tpr_downsampling_forest, thresholds_downsampling_forest = roc_curve(target_valid, \n",
    "                                                                                      probability_one_downsampling_forest)"
   ]
  },
  {
   "cell_type": "code",
   "execution_count": 55,
   "metadata": {},
   "outputs": [
    {
     "data": {
      "image/png": "[encoded data removed]",
      "text/plain": [
       "<Figure size 432x288 with 1 Axes>"
      ]
     },
     "metadata": {
      "needs_background": "light"
     },
     "output_type": "display_data"
    }
   ],
   "source": [
    "roc_visualisation(fpr_downsampling_forest, tpr_downsampling_forest)"
   ]
  },
  {
   "cell_type": "code",
   "execution_count": 56,
   "metadata": {},
   "outputs": [
    {
     "name": "stdout",
     "output_type": "stream",
     "text": [
      "Roc-auc for downsample random forest:  0.8565375135525175\n"
     ]
    }
   ],
   "source": [
    "print('Roc-auc for downsample random forest: ', roc_auc_score(target_valid,probability_one_downsampling_forest))"
   ]
  },
  {
   "cell_type": "code",
   "execution_count": 57,
   "metadata": {},
   "outputs": [
    {
     "name": "stderr",
     "output_type": "stream",
     "text": [
      "/opt/conda/lib/python3.7/site-packages/sklearn/linear_model/logistic.py:432: FutureWarning: Default solver will be changed to 'lbfgs' in 0.22. Specify a solver to silence this warning.\n",
      "  FutureWarning)\n"
     ]
    }
   ],
   "source": [
    "downsampling_regress_model = regression_model(features_train_downsample, target_train_downsample, False)\n",
    "probability_one_downsampling_regress = downsampling_regress_model.predict_proba(features_valid)[:,1]\n",
    "fpr_downsampling_regress, tpr_downsampling_regress, thresholds_downsampling_regress = roc_curve(target_valid,\n",
    "                                                                                    probability_one_downsampling_regress\n",
    "                                                                                         )"
   ]
  },
  {
   "cell_type": "code",
   "execution_count": 58,
   "metadata": {},
   "outputs": [
    {
     "data": {
      "image/png": "[encoded data removed]",
      "text/plain": [
       "<Figure size 432x288 with 1 Axes>"
      ]
     },
     "metadata": {
      "needs_background": "light"
     },
     "output_type": "display_data"
    }
   ],
   "source": [
    "roc_visualisation(fpr_downsampling_regress, tpr_downsampling_regress)"
   ]
  },
  {
   "cell_type": "code",
   "execution_count": 59,
   "metadata": {},
   "outputs": [
    {
     "name": "stdout",
     "output_type": "stream",
     "text": [
      "Roc-auc for downsample logistic regression :  0.7712905678159693\n"
     ]
    }
   ],
   "source": [
    "print('Roc-auc for downsample logistic regression : ', roc_auc_score(target_valid,probability_one_downsampling_regress))"
   ]
  },
  {
   "cell_type": "markdown",
   "metadata": {},
   "source": [
    "## Тестирование модели"
   ]
  },
  {
   "cell_type": "code",
   "execution_count": 60,
   "metadata": {},
   "outputs": [
    {
     "name": "stdout",
     "output_type": "stream",
     "text": [
      "0.5955334987593052\n"
     ]
    }
   ],
   "source": [
    "favorite_model = RandomForestClassifier(n_estimators=13, max_depth=7, random_state=12345, class_weight='balanced')\n",
    "favorite_model.fit(features_train, target_train)\n",
    "predictions = favorite_model.predict(features_test)\n",
    "f1_metrics = f1_score(target_test, predictions)\n",
    "print(f1_metrics)"
   ]
  },
  {
   "cell_type": "markdown",
   "metadata": {},
   "source": [
    "Исследование auc-roc для наилучшей модели"
   ]
  },
  {
   "cell_type": "code",
   "execution_count": 61,
   "metadata": {},
   "outputs": [],
   "source": [
    "probability_one = favorite_model.predict_proba(features_test)[:,1]"
   ]
  },
  {
   "cell_type": "code",
   "execution_count": 62,
   "metadata": {},
   "outputs": [],
   "source": [
    "fpr, tpr, thresholds = roc_curve(target_test, probability_one)"
   ]
  },
  {
   "cell_type": "code",
   "execution_count": 63,
   "metadata": {},
   "outputs": [
    {
     "data": {
      "image/png": "[encoded data removed]",
      "text/plain": [
       "<Figure size 432x288 with 1 Axes>"
      ]
     },
     "metadata": {
      "needs_background": "light"
     },
     "output_type": "display_data"
    }
   ],
   "source": [
    "plt.figure()\n",
    "plt.plot(fpr, tpr)\n",
    "plt.plot([0, 1], [0, 1], linestyle='--')\n",
    "plt.xlim([0.0, 1.0])\n",
    "plt.ylim([0.0, 1.0])\n",
    "plt.xlabel('False Positive Rate')\n",
    "plt.ylabel('True Positive Rate')\n",
    "plt.title('ROC-кривая')\n",
    "plt.show()"
   ]
  },
  {
   "cell_type": "code",
   "execution_count": 64,
   "metadata": {},
   "outputs": [
    {
     "data": {
      "text/plain": [
       "0.8487359975779595"
      ]
     },
     "execution_count": 64,
     "metadata": {},
     "output_type": "execute_result"
    }
   ],
   "source": [
    "favorite_roc_auc = roc_auc_score(target_test,probability_one)\n",
    "favorite_roc_auc"
   ]
  },
  {
   "cell_type": "markdown",
   "metadata": {},
   "source": [
    "Наилучшая модель показала на тестовой выборке такие результаты: f1=0.595, roc_auc=0.84"
   ]
  },
  {
   "cell_type": "markdown",
   "metadata": {},
   "source": [
    "Общий вывод: Было исследовано несколько различных моделей, качество которых оценивалось по метрике f1, в первых двух моделях не был учтен дисбаланс классов, поэтому получились такие результаты: f1 модели, обученной на основе случайного леса = 0.59, f1 модели, обученной на алгоритме логистической регрессии = 0.07. При учете дисбаланса модель обучалась на основе алгоритмов учета важности класса. F1 случайного леса = 0.644, f1 регрессии = 0.50. Применялась техника upsampling, f1 случайного леса = 0.628, f1 регрессии = 0.50. Применялась техника downsampling, f1 случайного леса = 0.628, f1 регрессии = 0.497. На основе этого была выбрана лучшая модель, испытание которой прошло еще на тестовой выборке, результаты по тестовой выбрке такие: f1 = 0.595, roc_auc=0.848"
   ]
  },
  {
   "cell_type": "code",
   "execution_count": 65,
   "metadata": {},
   "outputs": [
    {
     "data": {
      "text/html": [
       "<div>\n",
       "<style scoped>\n",
       "    .dataframe tbody tr th:only-of-type {\n",
       "        vertical-align: middle;\n",
       "    }\n",
       "\n",
       "    .dataframe tbody tr th {\n",
       "        vertical-align: top;\n",
       "    }\n",
       "\n",
       "    .dataframe thead th {\n",
       "        text-align: right;\n",
       "    }\n",
       "</style>\n",
       "<table border=\"1\" class=\"dataframe\">\n",
       "  <thead>\n",
       "    <tr style=\"text-align: right;\">\n",
       "      <th></th>\n",
       "      <th>model</th>\n",
       "      <th>disbalans_f1</th>\n",
       "      <th>weight_f1</th>\n",
       "      <th>upsampling_f1</th>\n",
       "      <th>downsampling_f1</th>\n",
       "    </tr>\n",
       "  </thead>\n",
       "  <tbody>\n",
       "    <tr>\n",
       "      <td>0</td>\n",
       "      <td>Random Forest</td>\n",
       "      <td>0.59</td>\n",
       "      <td>0.644</td>\n",
       "      <td>0.628</td>\n",
       "      <td>0.628</td>\n",
       "    </tr>\n",
       "    <tr>\n",
       "      <td>1</td>\n",
       "      <td>Logistic Regression</td>\n",
       "      <td>0.07</td>\n",
       "      <td>0.500</td>\n",
       "      <td>0.500</td>\n",
       "      <td>0.497</td>\n",
       "    </tr>\n",
       "  </tbody>\n",
       "</table>\n",
       "</div>"
      ],
      "text/plain": [
       "                 model  disbalans_f1  weight_f1  upsampling_f1  \\\n",
       "0        Random Forest          0.59      0.644          0.628   \n",
       "1  Logistic Regression          0.07      0.500          0.500   \n",
       "\n",
       "   downsampling_f1  \n",
       "0            0.628  \n",
       "1            0.497  "
      ]
     },
     "execution_count": 65,
     "metadata": {},
     "output_type": "execute_result"
    }
   ],
   "source": [
    "res = [['Random Forest', 0.59, 0.644, 0.628, 0.628],\n",
    "       ['Logistic Regression', 0.07, 0.50, 0.50, 0.497]\n",
    "       ]\n",
    "columns1 = ['model', 'disbalans_f1', 'weight_f1', 'upsampling_f1', 'downsampling_f1']\n",
    "res_data = pd.DataFrame(data=res, columns=columns1)\n",
    "res_data"
   ]
  },
  {
   "cell_type": "code",
   "execution_count": null,
   "metadata": {},
   "outputs": [],
   "source": []
  }
 ],
 "metadata": {
  "ExecuteTimeLog": [
   {
    "duration": 404,
    "start_time": "2021-11-17T11:40:21.533Z"
   },
   {
    "duration": 913,
    "start_time": "2021-11-17T11:40:34.445Z"
   },
   {
    "duration": 392,
    "start_time": "2021-11-17T11:40:40.136Z"
   },
   {
    "duration": 13,
    "start_time": "2021-11-17T11:41:20.805Z"
   },
   {
    "duration": 13,
    "start_time": "2021-11-17T11:42:37.404Z"
   },
   {
    "duration": 359,
    "start_time": "2021-11-17T11:43:35.089Z"
   },
   {
    "duration": 347,
    "start_time": "2021-11-17T11:44:08.128Z"
   },
   {
    "duration": 789,
    "start_time": "2021-11-17T11:44:26.081Z"
   },
   {
    "duration": 73,
    "start_time": "2021-11-17T11:44:26.873Z"
   },
   {
    "duration": 14,
    "start_time": "2021-11-17T11:44:26.950Z"
   },
   {
    "duration": 37,
    "start_time": "2021-11-17T11:44:26.967Z"
   },
   {
    "duration": 369,
    "start_time": "2021-11-17T11:44:27.007Z"
   },
   {
    "duration": 794,
    "start_time": "2021-11-17T11:45:13.384Z"
   },
   {
    "duration": 71,
    "start_time": "2021-11-17T11:45:14.181Z"
   },
   {
    "duration": 14,
    "start_time": "2021-11-17T11:45:14.255Z"
   },
   {
    "duration": 42,
    "start_time": "2021-11-17T11:45:14.273Z"
   },
   {
    "duration": 7,
    "start_time": "2021-11-17T11:45:34.240Z"
   },
   {
    "duration": 10,
    "start_time": "2021-11-17T11:50:22.845Z"
   },
   {
    "duration": 417,
    "start_time": "2021-11-17T12:14:41.514Z"
   },
   {
    "duration": 32,
    "start_time": "2021-11-17T12:14:51.105Z"
   },
   {
    "duration": 7,
    "start_time": "2021-11-17T12:15:47.122Z"
   },
   {
    "duration": 1226,
    "start_time": "2021-11-17T12:16:11.375Z"
   },
   {
    "duration": 4,
    "start_time": "2021-11-17T12:16:21.980Z"
   },
   {
    "duration": 328,
    "start_time": "2021-11-17T12:16:32.838Z"
   },
   {
    "duration": 319,
    "start_time": "2021-11-17T12:17:07.934Z"
   },
   {
    "duration": 6,
    "start_time": "2021-11-17T12:17:17.182Z"
   },
   {
    "duration": 4,
    "start_time": "2021-11-17T12:17:23.839Z"
   },
   {
    "duration": 777,
    "start_time": "2021-11-17T12:17:31.497Z"
   },
   {
    "duration": 86,
    "start_time": "2021-11-17T12:17:32.276Z"
   },
   {
    "duration": 13,
    "start_time": "2021-11-17T12:17:32.365Z"
   },
   {
    "duration": 36,
    "start_time": "2021-11-17T12:17:32.381Z"
   },
   {
    "duration": 7,
    "start_time": "2021-11-17T12:17:32.420Z"
   },
   {
    "duration": 17,
    "start_time": "2021-11-17T12:17:32.430Z"
   },
   {
    "duration": 69,
    "start_time": "2021-11-17T12:17:32.450Z"
   },
   {
    "duration": 6,
    "start_time": "2021-11-17T12:17:32.524Z"
   },
   {
    "duration": 31,
    "start_time": "2021-11-17T12:17:32.532Z"
   },
   {
    "duration": 1368,
    "start_time": "2021-11-17T12:17:58.057Z"
   },
   {
    "duration": 4,
    "start_time": "2021-11-17T12:18:06.602Z"
   },
   {
    "duration": 27,
    "start_time": "2021-11-17T12:18:10.345Z"
   },
   {
    "duration": 734,
    "start_time": "2021-11-17T12:18:18.635Z"
   },
   {
    "duration": 77,
    "start_time": "2021-11-17T12:18:19.372Z"
   },
   {
    "duration": 13,
    "start_time": "2021-11-17T12:18:19.452Z"
   },
   {
    "duration": 38,
    "start_time": "2021-11-17T12:18:19.468Z"
   },
   {
    "duration": 5,
    "start_time": "2021-11-17T12:18:19.508Z"
   },
   {
    "duration": 11,
    "start_time": "2021-11-17T12:18:19.515Z"
   },
   {
    "duration": 31,
    "start_time": "2021-11-17T12:18:19.528Z"
   },
   {
    "duration": 7,
    "start_time": "2021-11-17T12:18:19.600Z"
   },
   {
    "duration": 30,
    "start_time": "2021-11-17T12:18:19.611Z"
   },
   {
    "duration": 44,
    "start_time": "2021-11-17T12:19:06.737Z"
   },
   {
    "duration": 8,
    "start_time": "2021-11-17T12:20:22.495Z"
   },
   {
    "duration": 802,
    "start_time": "2021-11-17T12:22:33.495Z"
   },
   {
    "duration": 78,
    "start_time": "2021-11-17T12:22:34.301Z"
   },
   {
    "duration": 14,
    "start_time": "2021-11-17T12:22:34.400Z"
   },
   {
    "duration": 18,
    "start_time": "2021-11-17T12:22:34.418Z"
   },
   {
    "duration": 6,
    "start_time": "2021-11-17T12:22:34.438Z"
   },
   {
    "duration": 54,
    "start_time": "2021-11-17T12:22:34.446Z"
   },
   {
    "duration": 31,
    "start_time": "2021-11-17T12:22:34.504Z"
   },
   {
    "duration": 15,
    "start_time": "2021-11-17T12:22:34.538Z"
   },
   {
    "duration": 50,
    "start_time": "2021-11-17T12:22:34.555Z"
   },
   {
    "duration": 45,
    "start_time": "2021-11-17T12:22:34.607Z"
   },
   {
    "duration": 9,
    "start_time": "2021-11-17T12:22:34.654Z"
   },
   {
    "duration": 403,
    "start_time": "2021-11-17T12:50:16.258Z"
   },
   {
    "duration": 317,
    "start_time": "2021-11-17T12:50:47.673Z"
   },
   {
    "duration": 344,
    "start_time": "2021-11-17T12:51:11.809Z"
   },
   {
    "duration": 1963,
    "start_time": "2021-11-17T12:52:49.427Z"
   },
   {
    "duration": 625,
    "start_time": "2021-11-17T12:52:50.769Z"
   },
   {
    "duration": 625,
    "start_time": "2021-11-17T12:52:50.771Z"
   },
   {
    "duration": 620,
    "start_time": "2021-11-17T12:52:50.777Z"
   },
   {
    "duration": 622,
    "start_time": "2021-11-17T12:52:50.778Z"
   },
   {
    "duration": 621,
    "start_time": "2021-11-17T12:52:50.780Z"
   },
   {
    "duration": 620,
    "start_time": "2021-11-17T12:52:50.782Z"
   },
   {
    "duration": 618,
    "start_time": "2021-11-17T12:52:50.785Z"
   },
   {
    "duration": 617,
    "start_time": "2021-11-17T12:52:50.788Z"
   },
   {
    "duration": 610,
    "start_time": "2021-11-17T12:52:50.796Z"
   },
   {
    "duration": 609,
    "start_time": "2021-11-17T12:52:50.798Z"
   },
   {
    "duration": 610,
    "start_time": "2021-11-17T12:52:50.799Z"
   },
   {
    "duration": 1418,
    "start_time": "2021-11-17T12:53:09.901Z"
   },
   {
    "duration": 73,
    "start_time": "2021-11-17T12:53:11.321Z"
   },
   {
    "duration": 11,
    "start_time": "2021-11-17T12:53:11.397Z"
   },
   {
    "duration": 17,
    "start_time": "2021-11-17T12:53:11.411Z"
   },
   {
    "duration": 5,
    "start_time": "2021-11-17T12:53:11.430Z"
   },
   {
    "duration": 10,
    "start_time": "2021-11-17T12:53:11.437Z"
   },
   {
    "duration": 72,
    "start_time": "2021-11-17T12:53:11.449Z"
   },
   {
    "duration": 6,
    "start_time": "2021-11-17T12:53:11.525Z"
   },
   {
    "duration": 27,
    "start_time": "2021-11-17T12:53:11.535Z"
   },
   {
    "duration": 72,
    "start_time": "2021-11-17T12:53:11.565Z"
   },
   {
    "duration": 8,
    "start_time": "2021-11-17T12:53:11.640Z"
   },
   {
    "duration": 57,
    "start_time": "2021-11-17T12:53:11.651Z"
   },
   {
    "duration": 480,
    "start_time": "2021-11-17T13:02:59.987Z"
   },
   {
    "duration": 1378,
    "start_time": "2021-11-17T13:05:53.884Z"
   },
   {
    "duration": 75,
    "start_time": "2021-11-17T13:05:55.265Z"
   },
   {
    "duration": 13,
    "start_time": "2021-11-17T13:05:55.346Z"
   },
   {
    "duration": 40,
    "start_time": "2021-11-17T13:05:55.362Z"
   },
   {
    "duration": 6,
    "start_time": "2021-11-17T13:05:55.405Z"
   },
   {
    "duration": 21,
    "start_time": "2021-11-17T13:05:55.414Z"
   },
   {
    "duration": 41,
    "start_time": "2021-11-17T13:05:55.438Z"
   },
   {
    "duration": 7,
    "start_time": "2021-11-17T13:05:55.504Z"
   },
   {
    "duration": 31,
    "start_time": "2021-11-17T13:05:55.514Z"
   },
   {
    "duration": 74,
    "start_time": "2021-11-17T13:05:55.547Z"
   },
   {
    "duration": 9,
    "start_time": "2021-11-17T13:05:55.624Z"
   },
   {
    "duration": 13,
    "start_time": "2021-11-17T13:05:55.636Z"
   },
   {
    "duration": 492,
    "start_time": "2021-11-17T13:05:55.651Z"
   },
   {
    "duration": 342,
    "start_time": "2021-11-17T13:14:02.251Z"
   },
   {
    "duration": 338,
    "start_time": "2021-11-17T13:14:25.828Z"
   },
   {
    "duration": 1703,
    "start_time": "2021-11-17T13:14:56.153Z"
   },
   {
    "duration": 73,
    "start_time": "2021-11-17T13:14:57.858Z"
   },
   {
    "duration": 12,
    "start_time": "2021-11-17T13:14:57.937Z"
   },
   {
    "duration": 18,
    "start_time": "2021-11-17T13:14:57.951Z"
   },
   {
    "duration": 7,
    "start_time": "2021-11-17T13:14:58.000Z"
   },
   {
    "duration": 12,
    "start_time": "2021-11-17T13:14:58.009Z"
   },
   {
    "duration": 29,
    "start_time": "2021-11-17T13:14:58.025Z"
   },
   {
    "duration": 44,
    "start_time": "2021-11-17T13:14:58.057Z"
   },
   {
    "duration": 29,
    "start_time": "2021-11-17T13:14:58.103Z"
   },
   {
    "duration": 68,
    "start_time": "2021-11-17T13:14:58.135Z"
   },
   {
    "duration": 9,
    "start_time": "2021-11-17T13:14:58.206Z"
   },
   {
    "duration": 9,
    "start_time": "2021-11-17T13:14:58.217Z"
   },
   {
    "duration": 12,
    "start_time": "2021-11-17T13:14:58.228Z"
   },
   {
    "duration": 24010,
    "start_time": "2021-11-17T13:14:58.242Z"
   },
   {
    "duration": 1329,
    "start_time": "2021-11-17T13:15:52.942Z"
   },
   {
    "duration": 75,
    "start_time": "2021-11-17T13:15:54.274Z"
   },
   {
    "duration": 12,
    "start_time": "2021-11-17T13:15:54.355Z"
   },
   {
    "duration": 42,
    "start_time": "2021-11-17T13:15:54.369Z"
   },
   {
    "duration": 7,
    "start_time": "2021-11-17T13:15:54.414Z"
   },
   {
    "duration": 13,
    "start_time": "2021-11-17T13:15:54.424Z"
   },
   {
    "duration": 70,
    "start_time": "2021-11-17T13:15:54.442Z"
   },
   {
    "duration": 6,
    "start_time": "2021-11-17T13:15:54.516Z"
   },
   {
    "duration": 29,
    "start_time": "2021-11-17T13:15:54.524Z"
   },
   {
    "duration": 75,
    "start_time": "2021-11-17T13:15:54.556Z"
   },
   {
    "duration": 8,
    "start_time": "2021-11-17T13:15:54.633Z"
   },
   {
    "duration": 11,
    "start_time": "2021-11-17T13:15:54.643Z"
   },
   {
    "duration": 42,
    "start_time": "2021-11-17T13:15:54.657Z"
   },
   {
    "duration": 24135,
    "start_time": "2021-11-17T13:15:54.702Z"
   },
   {
    "duration": 1396,
    "start_time": "2021-11-17T13:16:52.760Z"
   },
   {
    "duration": 72,
    "start_time": "2021-11-17T13:16:54.160Z"
   },
   {
    "duration": 12,
    "start_time": "2021-11-17T13:16:54.235Z"
   },
   {
    "duration": 17,
    "start_time": "2021-11-17T13:16:54.250Z"
   },
   {
    "duration": 34,
    "start_time": "2021-11-17T13:16:54.269Z"
   },
   {
    "duration": 10,
    "start_time": "2021-11-17T13:16:54.305Z"
   },
   {
    "duration": 30,
    "start_time": "2021-11-17T13:16:54.318Z"
   },
   {
    "duration": 5,
    "start_time": "2021-11-17T13:16:54.351Z"
   },
   {
    "duration": 65,
    "start_time": "2021-11-17T13:16:54.359Z"
   },
   {
    "duration": 44,
    "start_time": "2021-11-17T13:16:54.426Z"
   },
   {
    "duration": 29,
    "start_time": "2021-11-17T13:16:54.472Z"
   },
   {
    "duration": 9,
    "start_time": "2021-11-17T13:16:54.503Z"
   },
   {
    "duration": 20,
    "start_time": "2021-11-17T13:16:54.515Z"
   },
   {
    "duration": 24178,
    "start_time": "2021-11-17T13:16:54.538Z"
   },
   {
    "duration": 1773,
    "start_time": "2021-11-17T18:40:21.881Z"
   },
   {
    "duration": 621,
    "start_time": "2021-11-17T18:41:28.718Z"
   },
   {
    "duration": 1284,
    "start_time": "2021-11-17T18:41:45.932Z"
   },
   {
    "duration": 68,
    "start_time": "2021-11-17T18:41:47.218Z"
   },
   {
    "duration": 12,
    "start_time": "2021-11-17T18:41:47.288Z"
   },
   {
    "duration": 18,
    "start_time": "2021-11-17T18:41:47.303Z"
   },
   {
    "duration": 5,
    "start_time": "2021-11-17T18:41:47.323Z"
   },
   {
    "duration": 9,
    "start_time": "2021-11-17T18:41:47.331Z"
   },
   {
    "duration": 30,
    "start_time": "2021-11-17T18:41:47.383Z"
   },
   {
    "duration": 9,
    "start_time": "2021-11-17T18:41:47.415Z"
   },
   {
    "duration": 55,
    "start_time": "2021-11-17T18:41:47.429Z"
   },
   {
    "duration": 61,
    "start_time": "2021-11-17T18:41:47.487Z"
   },
   {
    "duration": 31,
    "start_time": "2021-11-17T18:41:47.551Z"
   },
   {
    "duration": 10,
    "start_time": "2021-11-17T18:41:47.584Z"
   },
   {
    "duration": 12,
    "start_time": "2021-11-17T18:41:47.597Z"
   },
   {
    "duration": 23190,
    "start_time": "2021-11-17T18:41:47.611Z"
   },
   {
    "duration": 574,
    "start_time": "2021-11-17T18:42:10.803Z"
   },
   {
    "duration": 341,
    "start_time": "2021-11-17T18:42:38.134Z"
   },
   {
    "duration": 385,
    "start_time": "2021-11-17T18:44:56.329Z"
   },
   {
    "duration": 397,
    "start_time": "2021-11-17T18:45:18.485Z"
   },
   {
    "duration": 1438,
    "start_time": "2021-11-17T18:48:19.460Z"
   },
   {
    "duration": 75,
    "start_time": "2021-11-17T18:48:20.902Z"
   },
   {
    "duration": 15,
    "start_time": "2021-11-17T18:48:20.980Z"
   },
   {
    "duration": 16,
    "start_time": "2021-11-17T18:48:20.997Z"
   },
   {
    "duration": 6,
    "start_time": "2021-11-17T18:48:21.015Z"
   },
   {
    "duration": 23,
    "start_time": "2021-11-17T18:48:21.023Z"
   },
   {
    "duration": 33,
    "start_time": "2021-11-17T18:48:21.048Z"
   },
   {
    "duration": 6,
    "start_time": "2021-11-17T18:48:21.083Z"
   },
   {
    "duration": 30,
    "start_time": "2021-11-17T18:48:21.093Z"
   },
   {
    "duration": 46,
    "start_time": "2021-11-17T18:48:21.125Z"
   },
   {
    "duration": 8,
    "start_time": "2021-11-17T18:48:21.173Z"
   },
   {
    "duration": 7,
    "start_time": "2021-11-17T18:48:21.184Z"
   },
   {
    "duration": 9,
    "start_time": "2021-11-17T18:48:21.193Z"
   },
   {
    "duration": 23019,
    "start_time": "2021-11-17T18:48:21.204Z"
   },
   {
    "duration": 585,
    "start_time": "2021-11-17T18:48:44.226Z"
   },
   {
    "duration": 550,
    "start_time": "2021-11-17T18:49:24.102Z"
   },
   {
    "duration": 13,
    "start_time": "2021-11-17T18:49:47.442Z"
   },
   {
    "duration": 497,
    "start_time": "2021-11-17T18:49:51.229Z"
   },
   {
    "duration": 111,
    "start_time": "2021-11-17T18:50:02.385Z"
   },
   {
    "duration": 1571,
    "start_time": "2021-11-17T19:01:31.106Z"
   },
   {
    "duration": 69,
    "start_time": "2021-11-17T19:01:32.679Z"
   },
   {
    "duration": 12,
    "start_time": "2021-11-17T19:01:32.751Z"
   },
   {
    "duration": 30,
    "start_time": "2021-11-17T19:01:32.767Z"
   },
   {
    "duration": 5,
    "start_time": "2021-11-17T19:01:32.800Z"
   },
   {
    "duration": 10,
    "start_time": "2021-11-17T19:01:32.808Z"
   },
   {
    "duration": 64,
    "start_time": "2021-11-17T19:01:32.821Z"
   },
   {
    "duration": 6,
    "start_time": "2021-11-17T19:01:32.887Z"
   },
   {
    "duration": 31,
    "start_time": "2021-11-17T19:01:32.897Z"
   },
   {
    "duration": 75,
    "start_time": "2021-11-17T19:01:32.931Z"
   },
   {
    "duration": 9,
    "start_time": "2021-11-17T19:01:33.008Z"
   },
   {
    "duration": 8,
    "start_time": "2021-11-17T19:01:33.020Z"
   },
   {
    "duration": 10,
    "start_time": "2021-11-17T19:01:33.030Z"
   },
   {
    "duration": 44,
    "start_time": "2021-11-17T19:01:33.042Z"
   },
   {
    "duration": 19915,
    "start_time": "2021-11-17T19:01:33.089Z"
   },
   {
    "duration": 567,
    "start_time": "2021-11-17T19:01:53.007Z"
   },
   {
    "duration": 26889,
    "start_time": "2021-11-17T19:02:23.015Z"
   },
   {
    "duration": 68,
    "start_time": "2021-11-17T19:02:58.124Z"
   },
   {
    "duration": 401,
    "start_time": "2021-11-17T19:03:10.495Z"
   },
   {
    "duration": 349,
    "start_time": "2021-11-17T19:04:13.641Z"
   },
   {
    "duration": 1436,
    "start_time": "2021-11-17T19:04:18.166Z"
   },
   {
    "duration": 77,
    "start_time": "2021-11-17T19:04:19.605Z"
   },
   {
    "duration": 13,
    "start_time": "2021-11-17T19:04:19.685Z"
   },
   {
    "duration": 23,
    "start_time": "2021-11-17T19:04:19.701Z"
   },
   {
    "duration": 7,
    "start_time": "2021-11-17T19:04:19.727Z"
   },
   {
    "duration": 55,
    "start_time": "2021-11-17T19:04:19.737Z"
   },
   {
    "duration": 43,
    "start_time": "2021-11-17T19:04:19.795Z"
   },
   {
    "duration": 38,
    "start_time": "2021-11-17T19:04:19.844Z"
   },
   {
    "duration": 39,
    "start_time": "2021-11-17T19:04:19.885Z"
   },
   {
    "duration": 92,
    "start_time": "2021-11-17T19:04:19.927Z"
   },
   {
    "duration": 8,
    "start_time": "2021-11-17T19:04:20.022Z"
   },
   {
    "duration": 16,
    "start_time": "2021-11-17T19:04:20.033Z"
   },
   {
    "duration": 31,
    "start_time": "2021-11-17T19:04:20.051Z"
   },
   {
    "duration": 13,
    "start_time": "2021-11-17T19:04:20.084Z"
   },
   {
    "duration": 20075,
    "start_time": "2021-11-17T19:04:20.100Z"
   },
   {
    "duration": 114,
    "start_time": "2021-11-17T19:04:40.177Z"
   },
   {
    "duration": 38,
    "start_time": "2021-11-17T19:07:04.291Z"
   },
   {
    "duration": 5,
    "start_time": "2021-11-17T19:09:24.971Z"
   },
   {
    "duration": 6,
    "start_time": "2021-11-17T19:11:27.255Z"
   },
   {
    "duration": 628,
    "start_time": "2021-11-17T19:13:23.673Z"
   },
   {
    "duration": 12,
    "start_time": "2021-11-17T19:13:35.089Z"
   },
   {
    "duration": 32,
    "start_time": "2021-11-17T19:14:05.296Z"
   },
   {
    "duration": 29,
    "start_time": "2021-11-17T19:14:43.897Z"
   },
   {
    "duration": 33,
    "start_time": "2021-11-17T19:18:27.576Z"
   },
   {
    "duration": 1397,
    "start_time": "2021-11-17T19:20:10.341Z"
   },
   {
    "duration": 70,
    "start_time": "2021-11-17T19:20:11.740Z"
   },
   {
    "duration": 17,
    "start_time": "2021-11-17T19:20:11.814Z"
   },
   {
    "duration": 49,
    "start_time": "2021-11-17T19:20:11.834Z"
   },
   {
    "duration": 7,
    "start_time": "2021-11-17T19:20:11.886Z"
   },
   {
    "duration": 11,
    "start_time": "2021-11-17T19:20:11.895Z"
   },
   {
    "duration": 29,
    "start_time": "2021-11-17T19:20:11.909Z"
   },
   {
    "duration": 6,
    "start_time": "2021-11-17T19:20:11.982Z"
   },
   {
    "duration": 29,
    "start_time": "2021-11-17T19:20:11.991Z"
   },
   {
    "duration": 70,
    "start_time": "2021-11-17T19:20:12.022Z"
   },
   {
    "duration": 8,
    "start_time": "2021-11-17T19:20:12.095Z"
   },
   {
    "duration": 7,
    "start_time": "2021-11-17T19:20:12.106Z"
   },
   {
    "duration": 12,
    "start_time": "2021-11-17T19:20:12.116Z"
   },
   {
    "duration": 10,
    "start_time": "2021-11-17T19:20:12.130Z"
   },
   {
    "duration": 20657,
    "start_time": "2021-11-17T19:20:12.142Z"
   },
   {
    "duration": 89,
    "start_time": "2021-11-17T19:20:32.802Z"
   },
   {
    "duration": 202,
    "start_time": "2021-11-17T19:20:32.894Z"
   },
   {
    "duration": 34,
    "start_time": "2021-11-17T19:20:33.099Z"
   },
   {
    "duration": 487,
    "start_time": "2021-11-17T19:33:03.874Z"
   },
   {
    "duration": 1839,
    "start_time": "2021-11-17T19:33:20.861Z"
   },
   {
    "duration": 103,
    "start_time": "2021-11-17T19:33:22.704Z"
   },
   {
    "duration": 17,
    "start_time": "2021-11-17T19:33:22.811Z"
   },
   {
    "duration": 24,
    "start_time": "2021-11-17T19:33:22.832Z"
   },
   {
    "duration": 7,
    "start_time": "2021-11-17T19:33:22.883Z"
   },
   {
    "duration": 13,
    "start_time": "2021-11-17T19:33:22.893Z"
   },
   {
    "duration": 31,
    "start_time": "2021-11-17T19:33:22.910Z"
   },
   {
    "duration": 43,
    "start_time": "2021-11-17T19:33:22.944Z"
   },
   {
    "duration": 30,
    "start_time": "2021-11-17T19:33:22.990Z"
   },
   {
    "duration": 79,
    "start_time": "2021-11-17T19:33:23.023Z"
   },
   {
    "duration": 12,
    "start_time": "2021-11-17T19:33:23.106Z"
   },
   {
    "duration": 10,
    "start_time": "2021-11-17T19:33:23.120Z"
   },
   {
    "duration": 11,
    "start_time": "2021-11-17T19:33:23.132Z"
   },
   {
    "duration": 42,
    "start_time": "2021-11-17T19:33:23.145Z"
   },
   {
    "duration": 20397,
    "start_time": "2021-11-17T19:33:23.190Z"
   },
   {
    "duration": 103,
    "start_time": "2021-11-17T19:33:43.590Z"
   },
   {
    "duration": 198,
    "start_time": "2021-11-17T19:33:43.697Z"
   },
   {
    "duration": 34,
    "start_time": "2021-11-17T19:33:43.897Z"
   },
   {
    "duration": 497,
    "start_time": "2021-11-17T19:33:43.933Z"
   },
   {
    "duration": 7,
    "start_time": "2021-11-17T19:37:43.921Z"
   },
   {
    "duration": 1363,
    "start_time": "2021-11-17T19:48:05.390Z"
   },
   {
    "duration": 71,
    "start_time": "2021-11-17T19:48:06.755Z"
   },
   {
    "duration": 15,
    "start_time": "2021-11-17T19:48:06.829Z"
   },
   {
    "duration": 46,
    "start_time": "2021-11-17T19:48:06.848Z"
   },
   {
    "duration": 5,
    "start_time": "2021-11-17T19:48:06.897Z"
   },
   {
    "duration": 15,
    "start_time": "2021-11-17T19:48:06.905Z"
   },
   {
    "duration": 61,
    "start_time": "2021-11-17T19:48:06.923Z"
   },
   {
    "duration": 9,
    "start_time": "2021-11-17T19:48:06.990Z"
   },
   {
    "duration": 28,
    "start_time": "2021-11-17T19:48:07.003Z"
   },
   {
    "duration": 83,
    "start_time": "2021-11-17T19:48:07.034Z"
   },
   {
    "duration": 10,
    "start_time": "2021-11-17T19:48:07.120Z"
   },
   {
    "duration": 10,
    "start_time": "2021-11-17T19:48:07.133Z"
   },
   {
    "duration": 44,
    "start_time": "2021-11-17T19:48:07.145Z"
   },
   {
    "duration": 10,
    "start_time": "2021-11-17T19:48:07.192Z"
   },
   {
    "duration": 22366,
    "start_time": "2021-11-17T19:48:07.205Z"
   },
   {
    "duration": 309,
    "start_time": "2021-11-17T19:48:29.573Z"
   },
   {
    "duration": 24,
    "start_time": "2021-11-17T19:48:29.885Z"
   },
   {
    "duration": 30,
    "start_time": "2021-11-17T19:48:29.912Z"
   },
   {
    "duration": 37,
    "start_time": "2021-11-17T19:48:29.945Z"
   },
   {
    "duration": 459,
    "start_time": "2021-11-17T19:48:29.985Z"
   },
   {
    "duration": 395,
    "start_time": "2021-11-17T19:48:54.391Z"
   },
   {
    "duration": 2584,
    "start_time": "2021-11-17T19:49:09.401Z"
   },
   {
    "duration": 2922,
    "start_time": "2021-11-17T19:53:36.984Z"
   },
   {
    "duration": 25420,
    "start_time": "2021-11-17T19:53:57.373Z"
   },
   {
    "duration": 37099,
    "start_time": "2021-11-17T19:55:10.476Z"
   },
   {
    "duration": 25210,
    "start_time": "2021-11-17T19:56:16.502Z"
   },
   {
    "duration": 10192,
    "start_time": "2021-11-17T19:58:19.761Z"
   },
   {
    "duration": 9169,
    "start_time": "2021-11-17T19:58:46.615Z"
   },
   {
    "duration": 13075,
    "start_time": "2021-11-17T20:00:32.589Z"
   },
   {
    "duration": 9112,
    "start_time": "2021-11-17T20:01:33.308Z"
   },
   {
    "duration": 1512,
    "start_time": "2021-11-17T20:10:05.938Z"
   },
   {
    "duration": 691,
    "start_time": "2021-11-17T20:10:07.453Z"
   },
   {
    "duration": 11,
    "start_time": "2021-11-17T20:10:08.147Z"
   },
   {
    "duration": 34,
    "start_time": "2021-11-17T20:10:08.161Z"
   },
   {
    "duration": 7,
    "start_time": "2021-11-17T20:10:08.197Z"
   },
   {
    "duration": 15,
    "start_time": "2021-11-17T20:10:08.206Z"
   },
   {
    "duration": 28,
    "start_time": "2021-11-17T20:10:08.223Z"
   },
   {
    "duration": 7,
    "start_time": "2021-11-17T20:10:08.282Z"
   },
   {
    "duration": 48,
    "start_time": "2021-11-17T20:10:08.294Z"
   },
   {
    "duration": 69,
    "start_time": "2021-11-17T20:10:08.346Z"
   },
   {
    "duration": 10,
    "start_time": "2021-11-17T20:10:08.418Z"
   },
   {
    "duration": 9,
    "start_time": "2021-11-17T20:10:08.431Z"
   },
   {
    "duration": 47,
    "start_time": "2021-11-17T20:10:08.442Z"
   },
   {
    "duration": 10,
    "start_time": "2021-11-17T20:10:08.491Z"
   },
   {
    "duration": 20724,
    "start_time": "2021-11-17T20:10:08.503Z"
   },
   {
    "duration": 79,
    "start_time": "2021-11-17T20:10:29.230Z"
   },
   {
    "duration": 114,
    "start_time": "2021-11-17T20:10:29.390Z"
   },
   {
    "duration": 31,
    "start_time": "2021-11-17T20:10:29.506Z"
   },
   {
    "duration": 7,
    "start_time": "2021-11-17T20:10:29.540Z"
   },
   {
    "duration": 9245,
    "start_time": "2021-11-17T20:10:29.550Z"
   },
   {
    "duration": 1348,
    "start_time": "2021-11-17T20:11:18.734Z"
   },
   {
    "duration": 67,
    "start_time": "2021-11-17T20:11:20.085Z"
   },
   {
    "duration": 12,
    "start_time": "2021-11-17T20:11:20.155Z"
   },
   {
    "duration": 27,
    "start_time": "2021-11-17T20:11:20.169Z"
   },
   {
    "duration": 6,
    "start_time": "2021-11-17T20:11:20.198Z"
   },
   {
    "duration": 10,
    "start_time": "2021-11-17T20:11:20.206Z"
   },
   {
    "duration": 77,
    "start_time": "2021-11-17T20:11:20.219Z"
   },
   {
    "duration": 8,
    "start_time": "2021-11-17T20:11:20.302Z"
   },
   {
    "duration": 71,
    "start_time": "2021-11-17T20:11:20.313Z"
   },
   {
    "duration": 66,
    "start_time": "2021-11-17T20:11:20.387Z"
   },
   {
    "duration": 33,
    "start_time": "2021-11-17T20:11:20.456Z"
   },
   {
    "duration": 10,
    "start_time": "2021-11-17T20:11:20.492Z"
   },
   {
    "duration": 11,
    "start_time": "2021-11-17T20:11:20.505Z"
   },
   {
    "duration": 11,
    "start_time": "2021-11-17T20:11:20.518Z"
   },
   {
    "duration": 21227,
    "start_time": "2021-11-17T20:11:20.531Z"
   },
   {
    "duration": 133,
    "start_time": "2021-11-17T20:11:41.761Z"
   },
   {
    "duration": 115,
    "start_time": "2021-11-17T20:11:41.983Z"
   },
   {
    "duration": 4,
    "start_time": "2021-11-17T20:11:42.101Z"
   },
   {
    "duration": 15,
    "start_time": "2021-11-17T20:11:42.107Z"
   },
   {
    "duration": 9225,
    "start_time": "2021-11-17T20:11:42.124Z"
   },
   {
    "duration": 24156,
    "start_time": "2021-11-17T20:12:31.866Z"
   },
   {
    "duration": 24467,
    "start_time": "2021-11-17T20:14:08.968Z"
   },
   {
    "duration": 23564,
    "start_time": "2021-11-17T20:15:14.600Z"
   },
   {
    "duration": 12152,
    "start_time": "2021-11-17T20:15:48.647Z"
   },
   {
    "duration": 9414,
    "start_time": "2021-11-17T20:16:24.698Z"
   },
   {
    "duration": 12849,
    "start_time": "2021-11-17T20:17:20.443Z"
   },
   {
    "duration": 13841,
    "start_time": "2021-11-17T20:17:57.152Z"
   },
   {
    "duration": 10442,
    "start_time": "2021-11-17T20:18:16.192Z"
   },
   {
    "duration": 1314,
    "start_time": "2021-11-17T20:19:09.607Z"
   },
   {
    "duration": 71,
    "start_time": "2021-11-17T20:19:10.924Z"
   },
   {
    "duration": 12,
    "start_time": "2021-11-17T20:19:10.999Z"
   },
   {
    "duration": 18,
    "start_time": "2021-11-17T20:19:11.014Z"
   },
   {
    "duration": 5,
    "start_time": "2021-11-17T20:19:11.035Z"
   },
   {
    "duration": 46,
    "start_time": "2021-11-17T20:19:11.043Z"
   },
   {
    "duration": 31,
    "start_time": "2021-11-17T20:19:11.091Z"
   },
   {
    "duration": 20,
    "start_time": "2021-11-17T20:19:11.125Z"
   },
   {
    "duration": 69,
    "start_time": "2021-11-17T20:19:11.151Z"
   },
   {
    "duration": 89,
    "start_time": "2021-11-17T20:19:11.223Z"
   },
   {
    "duration": 12,
    "start_time": "2021-11-17T20:19:11.315Z"
   },
   {
    "duration": 9,
    "start_time": "2021-11-17T20:19:11.330Z"
   },
   {
    "duration": 42,
    "start_time": "2021-11-17T20:19:11.342Z"
   },
   {
    "duration": 10,
    "start_time": "2021-11-17T20:19:11.387Z"
   },
   {
    "duration": 21319,
    "start_time": "2021-11-17T20:19:11.399Z"
   },
   {
    "duration": 173,
    "start_time": "2021-11-17T20:19:32.720Z"
   },
   {
    "duration": 107,
    "start_time": "2021-11-17T20:19:32.896Z"
   },
   {
    "duration": 31,
    "start_time": "2021-11-17T20:19:33.005Z"
   },
   {
    "duration": 46,
    "start_time": "2021-11-17T20:19:33.039Z"
   },
   {
    "duration": 10537,
    "start_time": "2021-11-17T20:19:33.088Z"
   },
   {
    "duration": 13327,
    "start_time": "2021-11-17T20:20:12.588Z"
   },
   {
    "duration": 31,
    "start_time": "2021-11-17T20:25:20.518Z"
   },
   {
    "duration": 1750,
    "start_time": "2021-11-17T20:26:22.524Z"
   },
   {
    "duration": 105,
    "start_time": "2021-11-17T20:26:24.278Z"
   },
   {
    "duration": 18,
    "start_time": "2021-11-17T20:26:24.388Z"
   },
   {
    "duration": 17,
    "start_time": "2021-11-17T20:26:24.410Z"
   },
   {
    "duration": 6,
    "start_time": "2021-11-17T20:26:24.429Z"
   },
   {
    "duration": 51,
    "start_time": "2021-11-17T20:26:24.437Z"
   },
   {
    "duration": 28,
    "start_time": "2021-11-17T20:26:24.491Z"
   },
   {
    "duration": 6,
    "start_time": "2021-11-17T20:26:24.523Z"
   },
   {
    "duration": 56,
    "start_time": "2021-11-17T20:26:24.532Z"
   },
   {
    "duration": 45,
    "start_time": "2021-11-17T20:26:24.590Z"
   },
   {
    "duration": 9,
    "start_time": "2021-11-17T20:26:24.637Z"
   },
   {
    "duration": 35,
    "start_time": "2021-11-17T20:26:24.648Z"
   },
   {
    "duration": 12,
    "start_time": "2021-11-17T20:26:24.685Z"
   },
   {
    "duration": 9,
    "start_time": "2021-11-17T20:26:24.700Z"
   },
   {
    "duration": 20925,
    "start_time": "2021-11-17T20:26:24.712Z"
   },
   {
    "duration": 144,
    "start_time": "2021-11-17T20:26:45.640Z"
   },
   {
    "duration": 127,
    "start_time": "2021-11-17T20:26:45.787Z"
   },
   {
    "duration": 67,
    "start_time": "2021-11-17T20:26:45.917Z"
   },
   {
    "duration": 8,
    "start_time": "2021-11-17T20:26:45.987Z"
   },
   {
    "duration": 13430,
    "start_time": "2021-11-17T20:26:45.998Z"
   },
   {
    "duration": 55,
    "start_time": "2021-11-17T20:26:59.431Z"
   },
   {
    "duration": 5,
    "start_time": "2021-11-17T20:34:46.260Z"
   },
   {
    "duration": 6,
    "start_time": "2021-11-17T20:36:01.138Z"
   },
   {
    "duration": 727,
    "start_time": "2021-11-17T20:37:08.404Z"
   },
   {
    "duration": 23,
    "start_time": "2021-11-17T20:37:49.091Z"
   },
   {
    "duration": 7,
    "start_time": "2021-11-17T20:38:01.388Z"
   },
   {
    "duration": 7,
    "start_time": "2021-11-17T20:40:20.026Z"
   },
   {
    "duration": 16,
    "start_time": "2021-11-17T20:40:28.201Z"
   },
   {
    "duration": 14,
    "start_time": "2021-11-17T20:40:49.004Z"
   },
   {
    "duration": 1363,
    "start_time": "2021-11-17T20:41:07.758Z"
   },
   {
    "duration": 69,
    "start_time": "2021-11-17T20:41:09.123Z"
   },
   {
    "duration": 12,
    "start_time": "2021-11-17T20:41:09.195Z"
   },
   {
    "duration": 15,
    "start_time": "2021-11-17T20:41:09.210Z"
   },
   {
    "duration": 5,
    "start_time": "2021-11-17T20:41:09.228Z"
   },
   {
    "duration": 51,
    "start_time": "2021-11-17T20:41:09.235Z"
   },
   {
    "duration": 30,
    "start_time": "2021-11-17T20:41:09.288Z"
   },
   {
    "duration": 7,
    "start_time": "2021-11-17T20:41:09.320Z"
   },
   {
    "duration": 74,
    "start_time": "2021-11-17T20:41:09.331Z"
   },
   {
    "duration": 46,
    "start_time": "2021-11-17T20:41:09.408Z"
   },
   {
    "duration": 30,
    "start_time": "2021-11-17T20:41:09.456Z"
   },
   {
    "duration": 8,
    "start_time": "2021-11-17T20:41:09.488Z"
   },
   {
    "duration": 12,
    "start_time": "2021-11-17T20:41:09.499Z"
   },
   {
    "duration": 9,
    "start_time": "2021-11-17T20:41:09.514Z"
   },
   {
    "duration": 20008,
    "start_time": "2021-11-17T20:41:09.526Z"
   },
   {
    "duration": 147,
    "start_time": "2021-11-17T20:41:29.536Z"
   },
   {
    "duration": 113,
    "start_time": "2021-11-17T20:41:29.688Z"
   },
   {
    "duration": 30,
    "start_time": "2021-11-17T20:41:29.804Z"
   },
   {
    "duration": 13709,
    "start_time": "2021-11-17T20:41:29.837Z"
   },
   {
    "duration": 49,
    "start_time": "2021-11-17T20:41:43.550Z"
   },
   {
    "duration": 7,
    "start_time": "2021-11-17T20:41:43.684Z"
   },
   {
    "duration": 35,
    "start_time": "2021-11-17T20:41:43.783Z"
   },
   {
    "duration": 8,
    "start_time": "2021-11-17T20:41:43.820Z"
   },
   {
    "duration": 14,
    "start_time": "2021-11-17T20:41:43.830Z"
   },
   {
    "duration": 9488,
    "start_time": "2021-11-17T20:42:16.474Z"
   },
   {
    "duration": 23308,
    "start_time": "2021-11-17T20:42:53.594Z"
   },
   {
    "duration": 7,
    "start_time": "2021-11-17T20:45:39.291Z"
   },
   {
    "duration": 23829,
    "start_time": "2021-11-17T20:45:55.173Z"
   },
   {
    "duration": 7,
    "start_time": "2021-11-17T20:46:49.263Z"
   },
   {
    "duration": 23851,
    "start_time": "2021-11-17T20:46:54.350Z"
   },
   {
    "duration": 8,
    "start_time": "2021-11-17T20:49:01.503Z"
   },
   {
    "duration": 604,
    "start_time": "2021-11-17T20:49:03.529Z"
   },
   {
    "duration": 22473,
    "start_time": "2021-11-17T20:49:13.164Z"
   },
   {
    "duration": 290,
    "start_time": "2021-11-17T20:50:24.911Z"
   },
   {
    "duration": 293,
    "start_time": "2021-11-17T20:50:40.834Z"
   },
   {
    "duration": 34042,
    "start_time": "2021-11-17T20:51:05.630Z"
   },
   {
    "duration": 6,
    "start_time": "2021-11-17T21:04:16.137Z"
   },
   {
    "duration": 579,
    "start_time": "2021-11-17T21:05:07.458Z"
   },
   {
    "duration": 6,
    "start_time": "2021-11-17T21:05:27.802Z"
   },
   {
    "duration": 31,
    "start_time": "2021-11-17T21:05:28.674Z"
   },
   {
    "duration": 14,
    "start_time": "2021-11-17T21:05:34.910Z"
   },
   {
    "duration": 5,
    "start_time": "2021-11-17T21:05:53.909Z"
   },
   {
    "duration": 14,
    "start_time": "2021-11-17T21:05:54.777Z"
   },
   {
    "duration": 15419,
    "start_time": "2021-11-17T21:06:28.021Z"
   },
   {
    "duration": 5,
    "start_time": "2021-11-17T21:09:01.237Z"
   },
   {
    "duration": 5,
    "start_time": "2021-11-17T21:09:17.842Z"
   },
   {
    "duration": 715,
    "start_time": "2021-11-17T21:09:31.466Z"
   },
   {
    "duration": 5,
    "start_time": "2021-11-17T21:10:03.065Z"
   },
   {
    "duration": 80,
    "start_time": "2021-11-17T21:10:03.813Z"
   },
   {
    "duration": 1384,
    "start_time": "2021-11-17T21:10:14.082Z"
   },
   {
    "duration": 104,
    "start_time": "2021-11-17T21:10:15.469Z"
   },
   {
    "duration": 18,
    "start_time": "2021-11-17T21:10:15.584Z"
   },
   {
    "duration": 24,
    "start_time": "2021-11-17T21:10:15.606Z"
   },
   {
    "duration": 7,
    "start_time": "2021-11-17T21:10:15.633Z"
   },
   {
    "duration": 42,
    "start_time": "2021-11-17T21:10:15.642Z"
   },
   {
    "duration": 30,
    "start_time": "2021-11-17T21:10:15.686Z"
   },
   {
    "duration": 8,
    "start_time": "2021-11-17T21:10:15.719Z"
   },
   {
    "duration": 64,
    "start_time": "2021-11-17T21:10:15.731Z"
   },
   {
    "duration": 41,
    "start_time": "2021-11-17T21:10:15.798Z"
   },
   {
    "duration": 9,
    "start_time": "2021-11-17T21:10:15.842Z"
   },
   {
    "duration": 34,
    "start_time": "2021-11-17T21:10:15.853Z"
   },
   {
    "duration": 21,
    "start_time": "2021-11-17T21:10:15.889Z"
   },
   {
    "duration": 8,
    "start_time": "2021-11-17T21:10:15.912Z"
   },
   {
    "duration": 20505,
    "start_time": "2021-11-17T21:10:15.922Z"
   },
   {
    "duration": 4,
    "start_time": "2021-11-17T21:10:36.430Z"
   },
   {
    "duration": 77,
    "start_time": "2021-11-17T21:10:36.437Z"
   },
   {
    "duration": 115,
    "start_time": "2021-11-17T21:10:36.589Z"
   },
   {
    "duration": 31,
    "start_time": "2021-11-17T21:10:36.706Z"
   },
   {
    "duration": 8,
    "start_time": "2021-11-17T21:10:36.739Z"
   },
   {
    "duration": 22749,
    "start_time": "2021-11-17T21:10:36.749Z"
   },
   {
    "duration": 183,
    "start_time": "2021-11-17T21:10:59.500Z"
   },
   {
    "duration": 7,
    "start_time": "2021-11-17T21:10:59.686Z"
   },
   {
    "duration": 25,
    "start_time": "2021-11-17T21:10:59.696Z"
   },
   {
    "duration": 9,
    "start_time": "2021-11-17T21:10:59.723Z"
   },
   {
    "duration": 50,
    "start_time": "2021-11-17T21:10:59.735Z"
   },
   {
    "duration": 37772,
    "start_time": "2021-11-17T21:10:59.790Z"
   },
   {
    "duration": 17,
    "start_time": "2021-11-17T21:11:37.565Z"
   },
   {
    "duration": 17,
    "start_time": "2021-11-17T21:11:37.586Z"
   },
   {
    "duration": 15119,
    "start_time": "2021-11-17T21:11:37.606Z"
   },
   {
    "duration": 432,
    "start_time": "2021-11-17T21:11:54.347Z"
   },
   {
    "duration": 24,
    "start_time": "2021-11-17T21:12:30.547Z"
   },
   {
    "duration": 24,
    "start_time": "2021-11-17T21:12:36.751Z"
   },
   {
    "duration": 8,
    "start_time": "2021-11-17T21:12:55.379Z"
   },
   {
    "duration": 6,
    "start_time": "2021-11-17T21:14:12.523Z"
   },
   {
    "duration": 1378,
    "start_time": "2021-11-17T21:14:17.583Z"
   },
   {
    "duration": 71,
    "start_time": "2021-11-17T21:14:18.964Z"
   },
   {
    "duration": 13,
    "start_time": "2021-11-17T21:14:19.038Z"
   },
   {
    "duration": 37,
    "start_time": "2021-11-17T21:14:19.055Z"
   },
   {
    "duration": 5,
    "start_time": "2021-11-17T21:14:19.094Z"
   },
   {
    "duration": 11,
    "start_time": "2021-11-17T21:14:19.101Z"
   },
   {
    "duration": 29,
    "start_time": "2021-11-17T21:14:19.114Z"
   },
   {
    "duration": 38,
    "start_time": "2021-11-17T21:14:19.146Z"
   },
   {
    "duration": 38,
    "start_time": "2021-11-17T21:14:19.188Z"
   },
   {
    "duration": 75,
    "start_time": "2021-11-17T21:14:19.229Z"
   },
   {
    "duration": 9,
    "start_time": "2021-11-17T21:14:19.307Z"
   },
   {
    "duration": 8,
    "start_time": "2021-11-17T21:14:19.318Z"
   },
   {
    "duration": 16,
    "start_time": "2021-11-17T21:14:19.328Z"
   },
   {
    "duration": 37,
    "start_time": "2021-11-17T21:14:19.346Z"
   },
   {
    "duration": 5,
    "start_time": "2021-11-17T21:14:19.386Z"
   },
   {
    "duration": 21272,
    "start_time": "2021-11-17T21:14:19.394Z"
   },
   {
    "duration": 14,
    "start_time": "2021-11-17T21:14:40.670Z"
   },
   {
    "duration": 197,
    "start_time": "2021-11-17T21:14:40.686Z"
   },
   {
    "duration": 40,
    "start_time": "2021-11-17T21:14:40.886Z"
   },
   {
    "duration": 76,
    "start_time": "2021-11-17T21:14:40.929Z"
   },
   {
    "duration": 11,
    "start_time": "2021-11-17T21:14:41.008Z"
   },
   {
    "duration": 22173,
    "start_time": "2021-11-17T21:14:41.021Z"
   },
   {
    "duration": 94,
    "start_time": "2021-11-17T21:15:03.200Z"
   },
   {
    "duration": 92,
    "start_time": "2021-11-17T21:15:03.297Z"
   },
   {
    "duration": 90,
    "start_time": "2021-11-17T21:15:03.392Z"
   },
   {
    "duration": 9,
    "start_time": "2021-11-17T21:15:03.485Z"
   },
   {
    "duration": 24,
    "start_time": "2021-11-17T21:15:03.497Z"
   },
   {
    "duration": 36868,
    "start_time": "2021-11-17T21:15:03.524Z"
   },
   {
    "duration": 6,
    "start_time": "2021-11-17T21:15:40.395Z"
   },
   {
    "duration": 19,
    "start_time": "2021-11-17T21:15:40.403Z"
   },
   {
    "duration": 16205,
    "start_time": "2021-11-17T21:15:40.424Z"
   },
   {
    "duration": 157,
    "start_time": "2021-11-17T21:16:57.933Z"
   },
   {
    "duration": 33,
    "start_time": "2021-11-17T21:18:27.096Z"
   },
   {
    "duration": 21,
    "start_time": "2021-11-17T21:19:37.421Z"
   },
   {
    "duration": 96,
    "start_time": "2021-11-17T21:27:30.037Z"
   },
   {
    "duration": 122,
    "start_time": "2021-11-17T21:27:56.840Z"
   },
   {
    "duration": 5,
    "start_time": "2021-11-17T21:30:08.253Z"
   },
   {
    "duration": 470,
    "start_time": "2021-11-17T21:31:03.020Z"
   },
   {
    "duration": 13,
    "start_time": "2021-11-17T21:31:12.162Z"
   },
   {
    "duration": 14,
    "start_time": "2021-11-17T21:31:20.220Z"
   },
   {
    "duration": 7,
    "start_time": "2021-11-17T21:32:38.308Z"
   },
   {
    "duration": 299,
    "start_time": "2021-11-17T21:33:45.709Z"
   },
   {
    "duration": 110,
    "start_time": "2021-11-17T21:34:21.924Z"
   },
   {
    "duration": 379,
    "start_time": "2021-11-17T21:34:27.779Z"
   },
   {
    "duration": 9,
    "start_time": "2021-11-17T21:37:06.051Z"
   },
   {
    "duration": 1525,
    "start_time": "2021-11-17T21:54:07.801Z"
   },
   {
    "duration": 64,
    "start_time": "2021-11-17T21:54:09.329Z"
   },
   {
    "duration": 12,
    "start_time": "2021-11-17T21:54:09.396Z"
   },
   {
    "duration": 18,
    "start_time": "2021-11-17T21:54:09.411Z"
   },
   {
    "duration": 6,
    "start_time": "2021-11-17T21:54:09.431Z"
   },
   {
    "duration": 47,
    "start_time": "2021-11-17T21:54:09.440Z"
   },
   {
    "duration": 30,
    "start_time": "2021-11-17T21:54:09.489Z"
   },
   {
    "duration": 8,
    "start_time": "2021-11-17T21:54:09.525Z"
   },
   {
    "duration": 64,
    "start_time": "2021-11-17T21:54:09.537Z"
   },
   {
    "duration": 41,
    "start_time": "2021-11-17T21:54:09.603Z"
   },
   {
    "duration": 46,
    "start_time": "2021-11-17T21:54:09.646Z"
   },
   {
    "duration": 9,
    "start_time": "2021-11-17T21:54:09.694Z"
   },
   {
    "duration": 12,
    "start_time": "2021-11-17T21:54:09.705Z"
   },
   {
    "duration": 9,
    "start_time": "2021-11-17T21:54:09.720Z"
   },
   {
    "duration": 6,
    "start_time": "2021-11-17T21:54:09.731Z"
   },
   {
    "duration": 19682,
    "start_time": "2021-11-17T21:54:09.739Z"
   },
   {
    "duration": 5,
    "start_time": "2021-11-17T21:54:29.424Z"
   },
   {
    "duration": 159,
    "start_time": "2021-11-17T21:54:29.431Z"
   },
   {
    "duration": 113,
    "start_time": "2021-11-17T21:54:29.683Z"
   },
   {
    "duration": 30,
    "start_time": "2021-11-17T21:54:29.798Z"
   },
   {
    "duration": 8,
    "start_time": "2021-11-17T21:54:29.830Z"
   },
   {
    "duration": 22348,
    "start_time": "2021-11-17T21:54:29.840Z"
   },
   {
    "duration": 88,
    "start_time": "2021-11-17T21:54:52.195Z"
   },
   {
    "duration": 92,
    "start_time": "2021-11-17T21:54:52.290Z"
   },
   {
    "duration": 24,
    "start_time": "2021-11-17T21:54:52.385Z"
   },
   {
    "duration": 16,
    "start_time": "2021-11-17T21:54:52.411Z"
   },
   {
    "duration": 30075,
    "start_time": "2021-11-17T21:54:52.430Z"
   },
   {
    "duration": 76,
    "start_time": "2021-11-17T21:55:22.508Z"
   },
   {
    "duration": 10,
    "start_time": "2021-11-17T21:55:22.587Z"
   },
   {
    "duration": 14,
    "start_time": "2021-11-17T21:55:22.683Z"
   },
   {
    "duration": 15058,
    "start_time": "2021-11-17T21:55:22.699Z"
   },
   {
    "duration": 31,
    "start_time": "2021-11-17T21:55:37.759Z"
   },
   {
    "duration": 264,
    "start_time": "2021-11-17T21:55:37.793Z"
   },
   {
    "duration": 25,
    "start_time": "2021-11-17T21:55:38.060Z"
   },
   {
    "duration": 7,
    "start_time": "2021-11-17T21:55:38.088Z"
   },
   {
    "duration": 429,
    "start_time": "2021-11-17T21:55:38.098Z"
   },
   {
    "duration": 11,
    "start_time": "2021-11-17T21:55:38.530Z"
   },
   {
    "duration": 1043,
    "start_time": "2021-11-18T07:30:40.744Z"
   },
   {
    "duration": 70,
    "start_time": "2021-11-18T07:30:41.789Z"
   },
   {
    "duration": 7,
    "start_time": "2021-11-18T07:30:41.861Z"
   },
   {
    "duration": 26,
    "start_time": "2021-11-18T07:30:41.870Z"
   },
   {
    "duration": 13,
    "start_time": "2021-11-18T07:30:41.897Z"
   },
   {
    "duration": 26,
    "start_time": "2021-11-18T07:30:41.911Z"
   },
   {
    "duration": 32,
    "start_time": "2021-11-18T07:30:41.939Z"
   },
   {
    "duration": 3,
    "start_time": "2021-11-18T07:30:41.973Z"
   },
   {
    "duration": 29,
    "start_time": "2021-11-18T07:30:41.978Z"
   },
   {
    "duration": 39,
    "start_time": "2021-11-18T07:30:42.008Z"
   },
   {
    "duration": 7,
    "start_time": "2021-11-18T07:30:42.049Z"
   },
   {
    "duration": 27,
    "start_time": "2021-11-18T07:30:42.057Z"
   },
   {
    "duration": 19,
    "start_time": "2021-11-18T07:30:42.085Z"
   },
   {
    "duration": 32,
    "start_time": "2021-11-18T07:30:42.106Z"
   },
   {
    "duration": 15,
    "start_time": "2021-11-18T07:30:42.140Z"
   },
   {
    "duration": 12602,
    "start_time": "2021-11-18T07:30:42.157Z"
   },
   {
    "duration": 3,
    "start_time": "2021-11-18T07:30:54.761Z"
   },
   {
    "duration": 49,
    "start_time": "2021-11-18T07:30:54.766Z"
   },
   {
    "duration": 107,
    "start_time": "2021-11-18T07:30:54.893Z"
   },
   {
    "duration": 32,
    "start_time": "2021-11-18T07:30:55.002Z"
   },
   {
    "duration": 7,
    "start_time": "2021-11-18T07:30:55.036Z"
   },
   {
    "duration": 14131,
    "start_time": "2021-11-18T07:30:55.045Z"
   },
   {
    "duration": 22,
    "start_time": "2021-11-18T07:31:09.179Z"
   },
   {
    "duration": 91,
    "start_time": "2021-11-18T07:31:09.202Z"
   },
   {
    "duration": 102,
    "start_time": "2021-11-18T07:31:09.296Z"
   },
   {
    "duration": 8,
    "start_time": "2021-11-18T07:31:09.400Z"
   },
   {
    "duration": 18628,
    "start_time": "2021-11-18T07:31:09.410Z"
   },
   {
    "duration": 55,
    "start_time": "2021-11-18T07:31:28.039Z"
   },
   {
    "duration": 95,
    "start_time": "2021-11-18T07:31:28.097Z"
   },
   {
    "duration": 13,
    "start_time": "2021-11-18T07:31:28.194Z"
   },
   {
    "duration": 9721,
    "start_time": "2021-11-18T07:31:28.208Z"
   },
   {
    "duration": 63,
    "start_time": "2021-11-18T07:31:37.930Z"
   },
   {
    "duration": 149,
    "start_time": "2021-11-18T07:31:37.996Z"
   },
   {
    "duration": 6,
    "start_time": "2021-11-18T07:31:38.146Z"
   },
   {
    "duration": 20,
    "start_time": "2021-11-18T07:31:38.154Z"
   },
   {
    "duration": 179,
    "start_time": "2021-11-18T07:31:38.175Z"
   },
   {
    "duration": 5,
    "start_time": "2021-11-18T07:31:38.355Z"
   },
   {
    "duration": 25,
    "start_time": "2021-11-18T07:31:38.362Z"
   },
   {
    "duration": 1067,
    "start_time": "2021-11-18T07:54:33.324Z"
   },
   {
    "duration": 46,
    "start_time": "2021-11-18T07:54:34.393Z"
   },
   {
    "duration": 8,
    "start_time": "2021-11-18T07:54:34.441Z"
   },
   {
    "duration": 10,
    "start_time": "2021-11-18T07:54:34.451Z"
   },
   {
    "duration": 14,
    "start_time": "2021-11-18T07:54:34.463Z"
   },
   {
    "duration": 15,
    "start_time": "2021-11-18T07:54:34.478Z"
   },
   {
    "duration": 19,
    "start_time": "2021-11-18T07:54:34.494Z"
   },
   {
    "duration": 4,
    "start_time": "2021-11-18T07:54:34.515Z"
   },
   {
    "duration": 27,
    "start_time": "2021-11-18T07:54:34.521Z"
   },
   {
    "duration": 46,
    "start_time": "2021-11-18T07:54:34.550Z"
   },
   {
    "duration": 6,
    "start_time": "2021-11-18T07:54:34.598Z"
   },
   {
    "duration": 7,
    "start_time": "2021-11-18T07:54:34.606Z"
   },
   {
    "duration": 7,
    "start_time": "2021-11-18T07:54:34.615Z"
   },
   {
    "duration": 6,
    "start_time": "2021-11-18T07:54:34.623Z"
   },
   {
    "duration": 8,
    "start_time": "2021-11-18T07:54:34.630Z"
   },
   {
    "duration": 12651,
    "start_time": "2021-11-18T07:54:34.639Z"
   },
   {
    "duration": 3,
    "start_time": "2021-11-18T07:54:47.292Z"
   },
   {
    "duration": 98,
    "start_time": "2021-11-18T07:54:47.297Z"
   },
   {
    "duration": 171,
    "start_time": "2021-11-18T07:54:47.397Z"
   },
   {
    "duration": 190,
    "start_time": "2021-11-18T07:54:47.570Z"
   },
   {
    "duration": 4,
    "start_time": "2021-11-18T07:54:47.762Z"
   },
   {
    "duration": 32,
    "start_time": "2021-11-18T07:54:47.768Z"
   },
   {
    "duration": 20,
    "start_time": "2021-11-18T07:54:47.803Z"
   },
   {
    "duration": 5,
    "start_time": "2021-11-18T07:54:47.825Z"
   },
   {
    "duration": 14213,
    "start_time": "2021-11-18T07:54:47.831Z"
   },
   {
    "duration": 48,
    "start_time": "2021-11-18T07:55:02.045Z"
   },
   {
    "duration": 96,
    "start_time": "2021-11-18T07:55:02.095Z"
   },
   {
    "duration": 17,
    "start_time": "2021-11-18T07:55:02.193Z"
   },
   {
    "duration": 14,
    "start_time": "2021-11-18T07:55:02.212Z"
   },
   {
    "duration": 18699,
    "start_time": "2021-11-18T07:55:02.228Z"
   },
   {
    "duration": 65,
    "start_time": "2021-11-18T07:55:20.928Z"
   },
   {
    "duration": 6,
    "start_time": "2021-11-18T07:55:20.995Z"
   },
   {
    "duration": 11,
    "start_time": "2021-11-18T07:55:21.092Z"
   },
   {
    "duration": 9600,
    "start_time": "2021-11-18T07:55:21.105Z"
   },
   {
    "duration": 88,
    "start_time": "2021-11-18T07:55:30.707Z"
   },
   {
    "duration": 151,
    "start_time": "2021-11-18T07:55:30.798Z"
   },
   {
    "duration": 8,
    "start_time": "2021-11-18T07:55:30.951Z"
   },
   {
    "duration": 31,
    "start_time": "2021-11-18T07:55:30.960Z"
   },
   {
    "duration": 169,
    "start_time": "2021-11-18T07:55:30.993Z"
   },
   {
    "duration": 7,
    "start_time": "2021-11-18T07:55:31.165Z"
   },
   {
    "duration": 23,
    "start_time": "2021-11-18T07:55:31.173Z"
   },
   {
    "duration": 256,
    "start_time": "2021-11-18T07:57:22.977Z"
   },
   {
    "duration": 4,
    "start_time": "2021-11-18T07:57:26.941Z"
   },
   {
    "duration": 156,
    "start_time": "2021-11-18T07:57:28.257Z"
   },
   {
    "duration": 1123,
    "start_time": "2021-11-18T08:03:15.361Z"
   },
   {
    "duration": 47,
    "start_time": "2021-11-18T08:03:16.485Z"
   },
   {
    "duration": 8,
    "start_time": "2021-11-18T08:03:16.534Z"
   },
   {
    "duration": 11,
    "start_time": "2021-11-18T08:03:16.544Z"
   },
   {
    "duration": 4,
    "start_time": "2021-11-18T08:03:16.556Z"
   },
   {
    "duration": 10,
    "start_time": "2021-11-18T08:03:16.561Z"
   },
   {
    "duration": 31,
    "start_time": "2021-11-18T08:03:16.573Z"
   },
   {
    "duration": 3,
    "start_time": "2021-11-18T08:03:16.606Z"
   },
   {
    "duration": 17,
    "start_time": "2021-11-18T08:03:16.612Z"
   },
   {
    "duration": 27,
    "start_time": "2021-11-18T08:03:16.631Z"
   },
   {
    "duration": 31,
    "start_time": "2021-11-18T08:03:16.660Z"
   },
   {
    "duration": 5,
    "start_time": "2021-11-18T08:03:16.693Z"
   },
   {
    "duration": 15,
    "start_time": "2021-11-18T08:03:16.699Z"
   },
   {
    "duration": 8,
    "start_time": "2021-11-18T08:03:16.715Z"
   },
   {
    "duration": 4,
    "start_time": "2021-11-18T08:03:16.725Z"
   },
   {
    "duration": 13007,
    "start_time": "2021-11-18T08:03:16.731Z"
   },
   {
    "duration": 5,
    "start_time": "2021-11-18T08:03:29.740Z"
   },
   {
    "duration": 56,
    "start_time": "2021-11-18T08:03:29.747Z"
   },
   {
    "duration": 262,
    "start_time": "2021-11-18T08:03:29.804Z"
   },
   {
    "duration": 3,
    "start_time": "2021-11-18T08:03:30.068Z"
   },
   {
    "duration": 172,
    "start_time": "2021-11-18T08:03:30.073Z"
   },
   {
    "duration": 4,
    "start_time": "2021-11-18T08:03:30.247Z"
   },
   {
    "duration": 317,
    "start_time": "2021-11-18T08:03:30.253Z"
   },
   {
    "duration": 895,
    "start_time": "2021-11-18T08:03:29.677Z"
   },
   {
    "duration": 894,
    "start_time": "2021-11-18T08:03:29.679Z"
   },
   {
    "duration": 893,
    "start_time": "2021-11-18T08:03:29.681Z"
   },
   {
    "duration": 892,
    "start_time": "2021-11-18T08:03:29.683Z"
   },
   {
    "duration": 892,
    "start_time": "2021-11-18T08:03:29.684Z"
   },
   {
    "duration": 891,
    "start_time": "2021-11-18T08:03:29.686Z"
   },
   {
    "duration": 890,
    "start_time": "2021-11-18T08:03:29.688Z"
   },
   {
    "duration": 884,
    "start_time": "2021-11-18T08:03:29.695Z"
   },
   {
    "duration": 882,
    "start_time": "2021-11-18T08:03:29.698Z"
   },
   {
    "duration": 881,
    "start_time": "2021-11-18T08:03:29.700Z"
   },
   {
    "duration": 881,
    "start_time": "2021-11-18T08:03:29.701Z"
   },
   {
    "duration": 880,
    "start_time": "2021-11-18T08:03:29.703Z"
   },
   {
    "duration": 879,
    "start_time": "2021-11-18T08:03:29.705Z"
   },
   {
    "duration": 878,
    "start_time": "2021-11-18T08:03:29.706Z"
   },
   {
    "duration": 876,
    "start_time": "2021-11-18T08:03:29.709Z"
   },
   {
    "duration": 875,
    "start_time": "2021-11-18T08:03:29.712Z"
   },
   {
    "duration": 874,
    "start_time": "2021-11-18T08:03:29.714Z"
   },
   {
    "duration": 872,
    "start_time": "2021-11-18T08:03:29.717Z"
   },
   {
    "duration": 870,
    "start_time": "2021-11-18T08:03:29.719Z"
   },
   {
    "duration": 868,
    "start_time": "2021-11-18T08:03:29.722Z"
   },
   {
    "duration": 867,
    "start_time": "2021-11-18T08:03:29.724Z"
   },
   {
    "duration": 866,
    "start_time": "2021-11-18T08:03:29.726Z"
   },
   {
    "duration": 1092,
    "start_time": "2021-11-18T08:03:59.795Z"
   },
   {
    "duration": 50,
    "start_time": "2021-11-18T08:04:00.889Z"
   },
   {
    "duration": 9,
    "start_time": "2021-11-18T08:04:00.942Z"
   },
   {
    "duration": 16,
    "start_time": "2021-11-18T08:04:00.953Z"
   },
   {
    "duration": 21,
    "start_time": "2021-11-18T08:04:00.971Z"
   },
   {
    "duration": 31,
    "start_time": "2021-11-18T08:04:00.994Z"
   },
   {
    "duration": 30,
    "start_time": "2021-11-18T08:04:01.027Z"
   },
   {
    "duration": 6,
    "start_time": "2021-11-18T08:04:01.059Z"
   },
   {
    "duration": 50,
    "start_time": "2021-11-18T08:04:01.068Z"
   },
   {
    "duration": 55,
    "start_time": "2021-11-18T08:04:01.121Z"
   },
   {
    "duration": 23,
    "start_time": "2021-11-18T08:04:01.178Z"
   },
   {
    "duration": 43,
    "start_time": "2021-11-18T08:04:01.203Z"
   },
   {
    "duration": 67,
    "start_time": "2021-11-18T08:04:01.248Z"
   },
   {
    "duration": 47,
    "start_time": "2021-11-18T08:04:01.317Z"
   },
   {
    "duration": 42,
    "start_time": "2021-11-18T08:04:01.366Z"
   },
   {
    "duration": 12861,
    "start_time": "2021-11-18T08:04:01.410Z"
   },
   {
    "duration": 3,
    "start_time": "2021-11-18T08:04:14.273Z"
   },
   {
    "duration": 119,
    "start_time": "2021-11-18T08:04:14.277Z"
   },
   {
    "duration": 171,
    "start_time": "2021-11-18T08:04:14.399Z"
   },
   {
    "duration": 4,
    "start_time": "2021-11-18T08:04:14.572Z"
   },
   {
    "duration": 186,
    "start_time": "2021-11-18T08:04:14.578Z"
   },
   {
    "duration": 7,
    "start_time": "2021-11-18T08:04:14.766Z"
   },
   {
    "duration": 47,
    "start_time": "2021-11-18T08:04:14.774Z"
   },
   {
    "duration": 329,
    "start_time": "2021-11-18T08:04:14.823Z"
   },
   {
    "duration": 905,
    "start_time": "2021-11-18T08:04:14.250Z"
   },
   {
    "duration": 897,
    "start_time": "2021-11-18T08:04:14.259Z"
   },
   {
    "duration": 896,
    "start_time": "2021-11-18T08:04:14.261Z"
   },
   {
    "duration": 895,
    "start_time": "2021-11-18T08:04:14.263Z"
   },
   {
    "duration": 895,
    "start_time": "2021-11-18T08:04:14.265Z"
   },
   {
    "duration": 894,
    "start_time": "2021-11-18T08:04:14.267Z"
   },
   {
    "duration": 892,
    "start_time": "2021-11-18T08:04:14.270Z"
   },
   {
    "duration": 892,
    "start_time": "2021-11-18T08:04:14.272Z"
   },
   {
    "duration": 891,
    "start_time": "2021-11-18T08:04:14.274Z"
   },
   {
    "duration": 891,
    "start_time": "2021-11-18T08:04:14.275Z"
   },
   {
    "duration": 888,
    "start_time": "2021-11-18T08:04:14.280Z"
   },
   {
    "duration": 886,
    "start_time": "2021-11-18T08:04:14.283Z"
   },
   {
    "duration": 883,
    "start_time": "2021-11-18T08:04:14.287Z"
   },
   {
    "duration": 883,
    "start_time": "2021-11-18T08:04:14.289Z"
   },
   {
    "duration": 882,
    "start_time": "2021-11-18T08:04:14.291Z"
   },
   {
    "duration": 882,
    "start_time": "2021-11-18T08:04:14.292Z"
   },
   {
    "duration": 881,
    "start_time": "2021-11-18T08:04:14.294Z"
   },
   {
    "duration": 881,
    "start_time": "2021-11-18T08:04:14.296Z"
   },
   {
    "duration": 881,
    "start_time": "2021-11-18T08:04:14.297Z"
   },
   {
    "duration": 880,
    "start_time": "2021-11-18T08:04:14.299Z"
   },
   {
    "duration": 881,
    "start_time": "2021-11-18T08:04:14.300Z"
   },
   {
    "duration": 157,
    "start_time": "2021-11-18T08:04:32.018Z"
   },
   {
    "duration": 5,
    "start_time": "2021-11-18T08:04:35.012Z"
   },
   {
    "duration": 1084,
    "start_time": "2021-11-18T08:04:42.502Z"
   },
   {
    "duration": 48,
    "start_time": "2021-11-18T08:04:43.589Z"
   },
   {
    "duration": 8,
    "start_time": "2021-11-18T08:04:43.639Z"
   },
   {
    "duration": 11,
    "start_time": "2021-11-18T08:04:43.649Z"
   },
   {
    "duration": 3,
    "start_time": "2021-11-18T08:04:43.662Z"
   },
   {
    "duration": 25,
    "start_time": "2021-11-18T08:04:43.667Z"
   },
   {
    "duration": 20,
    "start_time": "2021-11-18T08:04:43.694Z"
   },
   {
    "duration": 4,
    "start_time": "2021-11-18T08:04:43.716Z"
   },
   {
    "duration": 19,
    "start_time": "2021-11-18T08:04:43.722Z"
   },
   {
    "duration": 54,
    "start_time": "2021-11-18T08:04:43.743Z"
   },
   {
    "duration": 6,
    "start_time": "2021-11-18T08:04:43.799Z"
   },
   {
    "duration": 11,
    "start_time": "2021-11-18T08:04:43.807Z"
   },
   {
    "duration": 10,
    "start_time": "2021-11-18T08:04:43.820Z"
   },
   {
    "duration": 12,
    "start_time": "2021-11-18T08:04:43.831Z"
   },
   {
    "duration": 9,
    "start_time": "2021-11-18T08:04:43.844Z"
   },
   {
    "duration": 12458,
    "start_time": "2021-11-18T08:04:43.854Z"
   },
   {
    "duration": 4,
    "start_time": "2021-11-18T08:04:56.314Z"
   },
   {
    "duration": 77,
    "start_time": "2021-11-18T08:04:56.320Z"
   },
   {
    "duration": 240,
    "start_time": "2021-11-18T08:04:56.400Z"
   },
   {
    "duration": 5,
    "start_time": "2021-11-18T08:04:56.641Z"
   },
   {
    "duration": 182,
    "start_time": "2021-11-18T08:04:56.648Z"
   },
   {
    "duration": 6,
    "start_time": "2021-11-18T08:04:56.832Z"
   },
   {
    "duration": 53,
    "start_time": "2021-11-18T08:04:56.839Z"
   },
   {
    "duration": 171,
    "start_time": "2021-11-18T08:04:56.894Z"
   },
   {
    "duration": 6,
    "start_time": "2021-11-18T08:04:57.067Z"
   },
   {
    "duration": 32,
    "start_time": "2021-11-18T08:04:57.074Z"
   },
   {
    "duration": 22,
    "start_time": "2021-11-18T08:04:57.109Z"
   },
   {
    "duration": 5,
    "start_time": "2021-11-18T08:04:57.133Z"
   },
   {
    "duration": 14015,
    "start_time": "2021-11-18T08:04:57.140Z"
   },
   {
    "duration": 36,
    "start_time": "2021-11-18T08:05:11.156Z"
   },
   {
    "duration": 96,
    "start_time": "2021-11-18T08:05:11.197Z"
   },
   {
    "duration": 20,
    "start_time": "2021-11-18T08:05:11.295Z"
   },
   {
    "duration": 11,
    "start_time": "2021-11-18T08:05:11.317Z"
   },
   {
    "duration": 18864,
    "start_time": "2021-11-18T08:05:11.330Z"
   },
   {
    "duration": 98,
    "start_time": "2021-11-18T08:05:30.196Z"
   },
   {
    "duration": 97,
    "start_time": "2021-11-18T08:05:30.296Z"
   },
   {
    "duration": 104,
    "start_time": "2021-11-18T08:05:30.396Z"
   },
   {
    "duration": 9430,
    "start_time": "2021-11-18T08:05:30.503Z"
   },
   {
    "duration": 12,
    "start_time": "2021-11-18T08:05:39.934Z"
   },
   {
    "duration": 148,
    "start_time": "2021-11-18T08:05:39.993Z"
   },
   {
    "duration": 7,
    "start_time": "2021-11-18T08:05:40.143Z"
   },
   {
    "duration": 46,
    "start_time": "2021-11-18T08:05:40.151Z"
   },
   {
    "duration": 183,
    "start_time": "2021-11-18T08:05:40.198Z"
   },
   {
    "duration": 9,
    "start_time": "2021-11-18T08:05:40.383Z"
   },
   {
    "duration": 35,
    "start_time": "2021-11-18T08:05:40.393Z"
   },
   {
    "duration": 4,
    "start_time": "2021-11-18T08:13:49.191Z"
   },
   {
    "duration": 320,
    "start_time": "2021-11-18T08:21:04.990Z"
   },
   {
    "duration": 4,
    "start_time": "2021-11-18T08:21:28.234Z"
   },
   {
    "duration": 59,
    "start_time": "2021-11-18T08:21:28.964Z"
   },
   {
    "duration": 164,
    "start_time": "2021-11-18T08:21:30.854Z"
   },
   {
    "duration": 7,
    "start_time": "2021-11-18T08:21:34.846Z"
   },
   {
    "duration": 3,
    "start_time": "2021-11-18T08:24:13.122Z"
   },
   {
    "duration": 15,
    "start_time": "2021-11-18T08:27:31.839Z"
   },
   {
    "duration": 159,
    "start_time": "2021-11-18T08:28:06.604Z"
   },
   {
    "duration": 5,
    "start_time": "2021-11-18T08:28:59.114Z"
   },
   {
    "duration": 322,
    "start_time": "2021-11-18T08:35:30.689Z"
   },
   {
    "duration": 1100,
    "start_time": "2021-11-18T08:36:24.291Z"
   },
   {
    "duration": 46,
    "start_time": "2021-11-18T08:36:25.393Z"
   },
   {
    "duration": 8,
    "start_time": "2021-11-18T08:36:25.443Z"
   },
   {
    "duration": 23,
    "start_time": "2021-11-18T08:36:25.452Z"
   },
   {
    "duration": 12,
    "start_time": "2021-11-18T08:36:25.476Z"
   },
   {
    "duration": 14,
    "start_time": "2021-11-18T08:36:25.489Z"
   },
   {
    "duration": 35,
    "start_time": "2021-11-18T08:36:25.504Z"
   },
   {
    "duration": 9,
    "start_time": "2021-11-18T08:36:25.541Z"
   },
   {
    "duration": 21,
    "start_time": "2021-11-18T08:36:25.552Z"
   },
   {
    "duration": 33,
    "start_time": "2021-11-18T08:36:25.574Z"
   },
   {
    "duration": 6,
    "start_time": "2021-11-18T08:36:25.608Z"
   },
   {
    "duration": 12,
    "start_time": "2021-11-18T08:36:25.615Z"
   },
   {
    "duration": 21,
    "start_time": "2021-11-18T08:36:25.628Z"
   },
   {
    "duration": 8,
    "start_time": "2021-11-18T08:36:25.650Z"
   },
   {
    "duration": 5,
    "start_time": "2021-11-18T08:36:25.660Z"
   },
   {
    "duration": 12475,
    "start_time": "2021-11-18T08:36:25.666Z"
   },
   {
    "duration": 3,
    "start_time": "2021-11-18T08:36:38.143Z"
   },
   {
    "duration": 52,
    "start_time": "2021-11-18T08:36:38.148Z"
   },
   {
    "duration": 171,
    "start_time": "2021-11-18T08:36:38.293Z"
   },
   {
    "duration": 3,
    "start_time": "2021-11-18T08:36:38.466Z"
   },
   {
    "duration": 174,
    "start_time": "2021-11-18T08:36:38.471Z"
   },
   {
    "duration": 5,
    "start_time": "2021-11-18T08:36:38.647Z"
   },
   {
    "duration": 51,
    "start_time": "2021-11-18T08:36:38.653Z"
   },
   {
    "duration": 157,
    "start_time": "2021-11-18T08:36:38.706Z"
   },
   {
    "duration": 5,
    "start_time": "2021-11-18T08:36:38.864Z"
   },
   {
    "duration": 30,
    "start_time": "2021-11-18T08:36:38.873Z"
   },
   {
    "duration": 18,
    "start_time": "2021-11-18T08:36:38.905Z"
   },
   {
    "duration": 4,
    "start_time": "2021-11-18T08:36:38.925Z"
   },
   {
    "duration": 13892,
    "start_time": "2021-11-18T08:36:38.931Z"
   },
   {
    "duration": 71,
    "start_time": "2021-11-18T08:36:52.825Z"
   },
   {
    "duration": 94,
    "start_time": "2021-11-18T08:36:52.898Z"
   },
   {
    "duration": 19,
    "start_time": "2021-11-18T08:36:52.994Z"
   },
   {
    "duration": 10,
    "start_time": "2021-11-18T08:36:53.015Z"
   },
   {
    "duration": 18700,
    "start_time": "2021-11-18T08:36:53.026Z"
   },
   {
    "duration": 66,
    "start_time": "2021-11-18T08:37:11.727Z"
   },
   {
    "duration": 97,
    "start_time": "2021-11-18T08:37:11.795Z"
   },
   {
    "duration": 13,
    "start_time": "2021-11-18T08:37:11.894Z"
   },
   {
    "duration": 9548,
    "start_time": "2021-11-18T08:37:11.909Z"
   },
   {
    "duration": 38,
    "start_time": "2021-11-18T08:37:21.458Z"
   },
   {
    "duration": 98,
    "start_time": "2021-11-18T08:37:21.498Z"
   },
   {
    "duration": 94,
    "start_time": "2021-11-18T08:37:21.598Z"
   },
   {
    "duration": 65,
    "start_time": "2021-11-18T08:37:21.694Z"
   },
   {
    "duration": 169,
    "start_time": "2021-11-18T08:37:21.761Z"
   },
   {
    "duration": 5,
    "start_time": "2021-11-18T08:37:21.931Z"
   },
   {
    "duration": 57,
    "start_time": "2021-11-18T08:37:21.938Z"
   },
   {
    "duration": 262,
    "start_time": "2021-11-18T08:37:21.997Z"
   },
   {
    "duration": 6,
    "start_time": "2021-11-18T08:37:22.260Z"
   },
   {
    "duration": 418,
    "start_time": "2021-11-18T08:37:22.267Z"
   },
   {
    "duration": 883,
    "start_time": "2021-11-18T08:37:21.803Z"
   },
   {
    "duration": 882,
    "start_time": "2021-11-18T08:37:21.806Z"
   },
   {
    "duration": 880,
    "start_time": "2021-11-18T08:37:21.809Z"
   },
   {
    "duration": 878,
    "start_time": "2021-11-18T08:37:21.812Z"
   },
   {
    "duration": 876,
    "start_time": "2021-11-18T08:37:21.815Z"
   },
   {
    "duration": 873,
    "start_time": "2021-11-18T08:37:21.819Z"
   },
   {
    "duration": 141,
    "start_time": "2021-11-18T08:38:39.014Z"
   },
   {
    "duration": 162,
    "start_time": "2021-11-18T08:39:00.441Z"
   },
   {
    "duration": 6,
    "start_time": "2021-11-18T08:39:49.371Z"
   },
   {
    "duration": 178,
    "start_time": "2021-11-18T08:43:35.133Z"
   },
   {
    "duration": 181,
    "start_time": "2021-11-18T08:43:43.375Z"
   },
   {
    "duration": 15,
    "start_time": "2021-11-18T08:43:53.887Z"
   },
   {
    "duration": 152,
    "start_time": "2021-11-18T08:44:14.680Z"
   },
   {
    "duration": 170,
    "start_time": "2021-11-18T08:44:56.503Z"
   },
   {
    "duration": 5,
    "start_time": "2021-11-18T08:45:04.414Z"
   },
   {
    "duration": 18,
    "start_time": "2021-11-18T08:45:53.771Z"
   },
   {
    "duration": 216,
    "start_time": "2021-11-18T08:45:54.805Z"
   },
   {
    "duration": 6,
    "start_time": "2021-11-18T08:45:58.086Z"
   },
   {
    "duration": 33,
    "start_time": "2021-11-18T08:47:48.131Z"
   },
   {
    "duration": 157,
    "start_time": "2021-11-18T08:48:15.912Z"
   },
   {
    "duration": 5,
    "start_time": "2021-11-18T08:48:47.070Z"
   },
   {
    "duration": 12,
    "start_time": "2021-11-18T08:50:12.119Z"
   },
   {
    "duration": 160,
    "start_time": "2021-11-18T08:50:31.654Z"
   },
   {
    "duration": 6,
    "start_time": "2021-11-18T08:51:00.448Z"
   },
   {
    "duration": 1076,
    "start_time": "2021-11-18T08:52:35.108Z"
   },
   {
    "duration": 47,
    "start_time": "2021-11-18T08:52:36.186Z"
   },
   {
    "duration": 8,
    "start_time": "2021-11-18T08:52:36.237Z"
   },
   {
    "duration": 15,
    "start_time": "2021-11-18T08:52:36.248Z"
   },
   {
    "duration": 4,
    "start_time": "2021-11-18T08:52:36.264Z"
   },
   {
    "duration": 27,
    "start_time": "2021-11-18T08:52:36.269Z"
   },
   {
    "duration": 18,
    "start_time": "2021-11-18T08:52:36.299Z"
   },
   {
    "duration": 7,
    "start_time": "2021-11-18T08:52:36.318Z"
   },
   {
    "duration": 18,
    "start_time": "2021-11-18T08:52:36.326Z"
   },
   {
    "duration": 23,
    "start_time": "2021-11-18T08:52:36.346Z"
   },
   {
    "duration": 6,
    "start_time": "2021-11-18T08:52:36.392Z"
   },
   {
    "duration": 5,
    "start_time": "2021-11-18T08:52:36.400Z"
   },
   {
    "duration": 9,
    "start_time": "2021-11-18T08:52:36.407Z"
   },
   {
    "duration": 5,
    "start_time": "2021-11-18T08:52:36.418Z"
   },
   {
    "duration": 8,
    "start_time": "2021-11-18T08:52:36.425Z"
   },
   {
    "duration": 12558,
    "start_time": "2021-11-18T08:52:36.435Z"
   },
   {
    "duration": 3,
    "start_time": "2021-11-18T08:52:48.995Z"
   },
   {
    "duration": 94,
    "start_time": "2021-11-18T08:52:49.000Z"
   },
   {
    "duration": 170,
    "start_time": "2021-11-18T08:52:49.097Z"
   },
   {
    "duration": 3,
    "start_time": "2021-11-18T08:52:49.269Z"
   },
   {
    "duration": 185,
    "start_time": "2021-11-18T08:52:49.273Z"
   },
   {
    "duration": 5,
    "start_time": "2021-11-18T08:52:49.461Z"
   },
   {
    "duration": 55,
    "start_time": "2021-11-18T08:52:49.468Z"
   },
   {
    "duration": 167,
    "start_time": "2021-11-18T08:52:49.524Z"
   },
   {
    "duration": 5,
    "start_time": "2021-11-18T08:52:49.693Z"
   },
   {
    "duration": 20,
    "start_time": "2021-11-18T08:52:49.699Z"
   },
   {
    "duration": 19,
    "start_time": "2021-11-18T08:52:49.721Z"
   },
   {
    "duration": 5,
    "start_time": "2021-11-18T08:52:49.741Z"
   },
   {
    "duration": 14404,
    "start_time": "2021-11-18T08:52:49.747Z"
   },
   {
    "duration": 40,
    "start_time": "2021-11-18T08:53:04.153Z"
   },
   {
    "duration": 5,
    "start_time": "2021-11-18T08:53:04.195Z"
   },
   {
    "duration": 18,
    "start_time": "2021-11-18T08:53:04.293Z"
   },
   {
    "duration": 17,
    "start_time": "2021-11-18T08:53:04.313Z"
   },
   {
    "duration": 18601,
    "start_time": "2021-11-18T08:53:04.331Z"
   },
   {
    "duration": 19,
    "start_time": "2021-11-18T08:53:22.933Z"
   },
   {
    "duration": 6,
    "start_time": "2021-11-18T08:53:22.993Z"
   },
   {
    "duration": 12,
    "start_time": "2021-11-18T08:53:23.091Z"
   },
   {
    "duration": 9575,
    "start_time": "2021-11-18T08:53:23.105Z"
   },
   {
    "duration": 19,
    "start_time": "2021-11-18T08:53:32.682Z"
   },
   {
    "duration": 95,
    "start_time": "2021-11-18T08:53:32.705Z"
   },
   {
    "duration": 15,
    "start_time": "2021-11-18T08:53:32.892Z"
   },
   {
    "duration": 59,
    "start_time": "2021-11-18T08:53:32.909Z"
   },
   {
    "duration": 154,
    "start_time": "2021-11-18T08:53:32.969Z"
   },
   {
    "duration": 5,
    "start_time": "2021-11-18T08:53:33.125Z"
   },
   {
    "duration": 65,
    "start_time": "2021-11-18T08:53:33.131Z"
   },
   {
    "duration": 281,
    "start_time": "2021-11-18T08:53:33.199Z"
   },
   {
    "duration": 9,
    "start_time": "2021-11-18T08:53:33.482Z"
   },
   {
    "duration": 146,
    "start_time": "2021-11-18T08:53:33.493Z"
   },
   {
    "duration": 167,
    "start_time": "2021-11-18T08:53:33.641Z"
   },
   {
    "duration": 6,
    "start_time": "2021-11-18T08:53:33.810Z"
   },
   {
    "duration": 81,
    "start_time": "2021-11-18T08:53:33.818Z"
   },
   {
    "duration": 352,
    "start_time": "2021-11-18T08:53:33.901Z"
   },
   {
    "duration": 5,
    "start_time": "2021-11-18T08:53:34.254Z"
   },
   {
    "duration": 46,
    "start_time": "2021-11-18T08:53:34.260Z"
   },
   {
    "duration": 169,
    "start_time": "2021-11-18T08:53:34.307Z"
   },
   {
    "duration": 14,
    "start_time": "2021-11-18T08:53:34.477Z"
   },
   {
    "duration": 13,
    "start_time": "2021-11-18T08:53:34.493Z"
   },
   {
    "duration": 342,
    "start_time": "2021-11-18T08:53:34.508Z"
   },
   {
    "duration": 6,
    "start_time": "2021-11-18T08:53:34.852Z"
   },
   {
    "duration": 74,
    "start_time": "2021-11-18T08:53:34.860Z"
   },
   {
    "duration": 7,
    "start_time": "2021-11-18T08:53:34.936Z"
   },
   {
    "duration": 13,
    "start_time": "2021-11-18T08:53:34.945Z"
   },
   {
    "duration": 204,
    "start_time": "2021-11-18T08:53:34.959Z"
   },
   {
    "duration": 5,
    "start_time": "2021-11-18T08:53:35.164Z"
   },
   {
    "duration": 15,
    "start_time": "2021-11-18T08:53:35.171Z"
   }
  ],
  "kernelspec": {
   "display_name": "Python 3",
   "language": "python",
   "name": "python3"
  },
  "language_info": {
   "codemirror_mode": {
    "name": "ipython",
    "version": 3
   },
   "file_extension": ".py",
   "mimetype": "text/x-python",
   "name": "python",
   "nbconvert_exporter": "python",
   "pygments_lexer": "ipython3",
   "version": "3.8.8"
  },
  "toc": {
   "base_numbering": 1,
   "nav_menu": {},
   "number_sections": true,
   "sideBar": true,
   "skip_h1_title": true,
   "title_cell": "Содержание",
   "title_sidebar": "Contents",
   "toc_cell": true,
   "toc_position": {},
   "toc_section_display": true,
   "toc_window_display": true
  }
 },
 "nbformat": 4,
 "nbformat_minor": 2
}
